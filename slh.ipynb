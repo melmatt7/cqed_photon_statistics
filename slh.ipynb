{
 "metadata": {
  "language_info": {
   "codemirror_mode": {
    "name": "ipython",
    "version": 3
   },
   "file_extension": ".py",
   "mimetype": "text/x-python",
   "name": "python",
   "nbconvert_exporter": "python",
   "pygments_lexer": "ipython3",
   "version": "3.8.5-final"
  },
  "orig_nbformat": 2,
  "kernelspec": {
   "name": "python3",
   "display_name": "Python 3",
   "language": "python"
  }
 },
 "nbformat": 4,
 "nbformat_minor": 2,
 "cells": [
  {
   "cell_type": "code",
   "execution_count": 34,
   "metadata": {},
   "outputs": [],
   "source": [
    "import sys\n",
    "from qnet.algebra.hilbert_space_algebra import local_space\n",
    "from qnet.algebra.operator_algebra import LocalSigma\n",
    "from qnet.algebra.circuit_algebra import *\n",
    "from qnet.circuit_components.displace_cc import Displace as Displace_cc\n",
    "import numpy as np\n",
    "import sympy as sy\n",
    "import qutip as qutip\n",
    "import matplotlib.pyplot as plt\n"
   ]
  },
  {
   "cell_type": "code",
   "execution_count": 2,
   "metadata": {},
   "outputs": [],
   "source": [
    "def SLH_JaynesCummings(Delta, Theta, g, kappa, gamma, namespace = ''):\n",
    "    \n",
    "    # create Fock- and Atom local spaces \n",
    "    fock = local_space('fock', namespace = namespace)\n",
    "    tls = local_space('tls', namespace = namespace, basis = ('e', 'g'))\n",
    "    \n",
    "    # create representations of a and sigma\n",
    "    a = Destroy(fock)\n",
    "    sigma = LocalSigma(tls, 'g', 'e')\n",
    "    \n",
    "    # Trivial scattering matrix\n",
    "    S = identity_matrix(2)\n",
    "    \n",
    "    # Collapse/Jump operators\n",
    "    L1 = sy.sqrt(kappa) * a                                    # Decay of cavity mode through mirror\n",
    "    L2 = sy.sqrt(gamma) * sigma                                # Atomic decay due to spontaneous emission into outside modes.\n",
    "    L = Matrix([[L1], \n",
    "                [L2]])\n",
    "    \n",
    "    # Hamilton operator\n",
    "    H = (Delta * sigma.dag() * sigma                        # detuning from atomic resonance\n",
    "        + Theta * a.dag() * a                               # detuning from cavity resonance\n",
    "        + I * g * (sigma * a.dag() - sigma.dag() * a))      # atom-mode coupling, I = sqrt(-1)\n",
    "    \n",
    "    return SLH(S, L, H)"
   ]
  },
  {
   "cell_type": "code",
   "execution_count": 3,
   "metadata": {},
   "outputs": [],
   "source": [
    "# symbolic parameters\n",
    "Delta, Theta, g = symbols('Delta, Theta,  g', real = True)  # Hamiltonian parameters\n",
    "kappa, gamma = symbols('kappa, gamma', positive = True)     # Decay rates\n",
    "alpha = symbols('alpha')                                    # External driving amplitude"
   ]
  },
  {
   "cell_type": "code",
   "execution_count": 49,
   "metadata": {},
   "outputs": [],
   "source": [
    "# circuit component models\n",
    "JC1 = SLH_JaynesCummings(Delta, Theta, g, kappa, gamma, namespace = 'jc1')  # first model\n",
    "JC2 = SLH_JaynesCummings(Delta, Theta, g, kappa, gamma, namespace = 'jc2')  # second model\n",
    "W_alpha = Displace_cc('W_alpha', alpha = alpha)                             # coherent displacement"
   ]
  },
  {
   "cell_type": "code",
   "execution_count": 75,
   "metadata": {},
   "outputs": [
    {
     "output_type": "display_data",
     "data": {
      "image/png": "[encoded data removed]",
      "text/plain": "<IPython.core.display.Image object>"
     },
     "metadata": {}
    }
   ],
   "source": [
    "# circuit expression\n",
    "SYS = (JC1 + cid(1)) \n",
    "SYS.show()"
   ]
  },
  {
   "cell_type": "code",
   "execution_count": 76,
   "metadata": {},
   "outputs": [
    {
     "output_type": "execute_result",
     "data": {
      "text/plain": [
       "SLH(Matrix([[1, 0, 0], [0, 1, 0], [0, 0, 1]]), Matrix([[ScalarTimesOperator(sqrt(kappa), Destroy(LocalSpace('fock', 'jc1')))], [ScalarTimesOperator(sqrt(gamma), LocalSigma(LocalSpace('tls', 'jc1'), 'g', 'e'))], [0]]), OperatorPlus(ScalarTimesOperator(Delta, LocalSigma(LocalSpace('tls', 'jc1'), 'e', 'e')), ScalarTimesOperator(Theta, OperatorTimes(Create(LocalSpace('fock', 'jc1')), Destroy(LocalSpace('fock', 'jc1')))), ScalarTimesOperator(I*g, OperatorTimes(Create(LocalSpace('fock', 'jc1')), LocalSigma(LocalSpace('tls', 'jc1'), 'g', 'e'))), ScalarTimesOperator(-I*g, OperatorTimes(Destroy(LocalSpace('fock', 'jc1')), LocalSigma(LocalSpace('tls', 'jc1'), 'e', 'g')))))"
      ],
      "text/latex": "$\\left( \\begin{pmatrix} {\\rm 1} & {\\rm 0} & {\\rm 0} \\\\ {\\rm 0} & {\\rm 1} & {\\rm 0} \\\\ {\\rm 0} & {\\rm 0} & {\\rm 1}\\end{pmatrix}, \\begin{pmatrix}  \\sqrt{\\kappa} {a_{{{\\rm fock}}_{{\\rm jc1}}}} \\\\  \\sqrt{\\gamma} {\\sigma_{{\\rm g},{\\rm e}}^{{{\\rm tls}}_{{\\rm jc1}}}} \\\\ 0\\end{pmatrix}, {\\rm  \\Delta {\\Pi_{{\\rm e}}^{{{\\rm tls}}_{{\\rm jc1}}}}} +  \\Theta  {a_{{{\\rm fock}}_{{\\rm jc1}}}^\\dagger} {a_{{{\\rm fock}}_{{\\rm jc1}}}} +  i g  {a_{{{\\rm fock}}_{{\\rm jc1}}}^\\dagger} {\\sigma_{{\\rm g},{\\rm e}}^{{{\\rm tls}}_{{\\rm jc1}}}} -  i g  {a_{{{\\rm fock}}_{{\\rm jc1}}}} {\\sigma_{{\\rm e},{\\rm g}}^{{{\\rm tls}}_{{\\rm jc1}}}} \\right)$"
     },
     "metadata": {},
     "execution_count": 76
    }
   ],
   "source": [
    "SYSSLH = SYS.toSLH().expand()\n",
    "SYSSLH"
   ]
  },
  {
   "cell_type": "code",
   "execution_count": 77,
   "metadata": {},
   "outputs": [
    {
     "output_type": "execute_result",
     "data": {
      "text/plain": [
       "ProductSpace(LocalSpace('fock', 'jc1'), LocalSpace('tls', 'jc1'))"
      ],
      "text/latex": "${{\\rm fock}}_{{\\rm jc1}} \\otimes {{\\rm tls}}_{{\\rm jc1}}$"
     },
     "metadata": {},
     "execution_count": 77
    }
   ],
   "source": [
    "SYS.space"
   ]
  },
  {
   "cell_type": "code",
   "execution_count": 78,
   "metadata": {},
   "outputs": [],
   "source": [
    "fjc1, ajc1 = SYS.space.operands\n",
    "a1 = Destroy(fjc1)\n",
    "# a2 = Destroy(fjc2)\n",
    "s1 = LocalSigma(ajc1, 'g', 'e')\n",
    "# s2 = LocalSigma(ajc2, 'g', 'e')\n",
    "Z1 = LocalProjector(ajc1, 'e') - LocalProjector(ajc1, 'g')\n",
    "# Z2 = LocalProjector(ajc2, 'e') - LocalProjector(ajc2, 'g')"
   ]
  },
  {
   "cell_type": "code",
   "execution_count": 79,
   "metadata": {},
   "outputs": [
    {
     "output_type": "execute_result",
     "data": {
      "text/plain": [
       "OperatorPlus(ScalarTimesOperator(-I*Theta - kappa/2, Destroy(LocalSpace('fock', 'jc1'))), ScalarTimesOperator(g, LocalSigma(LocalSpace('tls', 'jc1'), 'g', 'e')))"
      ],
      "text/latex": "${\\rm  - \\left(i \\Theta + \\frac{\\kappa}{2}\\right) {a_{{{\\rm fock}}_{{\\rm jc1}}}}} +  g {\\sigma_{{\\rm g},{\\rm e}}^{{{\\rm tls}}_{{\\rm jc1}}}}$"
     },
     "metadata": {},
     "execution_count": 79
    }
   ],
   "source": [
    "SYSSLH.symbolic_heisenberg_eom(a1).expand()"
   ]
  },
  {
   "cell_type": "code",
   "execution_count": 80,
   "metadata": {},
   "outputs": [
    {
     "output_type": "execute_result",
     "data": {
      "text/plain": [
       "ZeroOperator"
      ],
      "text/latex": "$0$"
     },
     "metadata": {},
     "execution_count": 80
    }
   ],
   "source": [
    "SYSSLH.symbolic_heisenberg_eom(a2).expand()"
   ]
  },
  {
   "cell_type": "code",
   "execution_count": 81,
   "metadata": {},
   "outputs": [
    {
     "output_type": "execute_result",
     "data": {
      "text/plain": [
       "OperatorPlus(ScalarTimesOperator(-I*Delta - gamma/2, LocalSigma(LocalSpace('tls', 'jc1'), 'g', 'e')), ScalarTimesOperator(g, OperatorTimes(Destroy(LocalSpace('fock', 'jc1')), LocalSigma(LocalSpace('tls', 'jc1'), 'e', 'e'))), ScalarTimesOperator(-g, OperatorTimes(Destroy(LocalSpace('fock', 'jc1')), LocalSigma(LocalSpace('tls', 'jc1'), 'g', 'g'))))"
      ],
      "text/latex": "${\\rm  - \\left(i \\Delta + \\frac{\\gamma}{2}\\right) {\\sigma_{{\\rm g},{\\rm e}}^{{{\\rm tls}}_{{\\rm jc1}}}}} +  g  {a_{{{\\rm fock}}_{{\\rm jc1}}}} {\\Pi_{{\\rm e}}^{{{\\rm tls}}_{{\\rm jc1}}}} -  g  {a_{{{\\rm fock}}_{{\\rm jc1}}}} {\\Pi_{{\\rm g}}^{{{\\rm tls}}_{{\\rm jc1}}}}$"
     },
     "metadata": {},
     "execution_count": 81
    }
   ],
   "source": [
    "SYSSLH.symbolic_heisenberg_eom(s1).expand()"
   ]
  },
  {
   "cell_type": "code",
   "execution_count": 82,
   "metadata": {},
   "outputs": [
    {
     "output_type": "execute_result",
     "data": {
      "text/plain": [
       "ZeroOperator"
      ],
      "text/latex": "$0$"
     },
     "metadata": {},
     "execution_count": 82
    }
   ],
   "source": [
    "SYSSLH.symbolic_heisenberg_eom(s2).expand()"
   ]
  },
  {
   "cell_type": "code",
   "execution_count": 83,
   "metadata": {},
   "outputs": [
    {
     "output_type": "execute_result",
     "data": {
      "text/plain": [
       "OperatorPlus(ScalarTimesOperator(-2*gamma, LocalSigma(LocalSpace('tls', 'jc1'), 'e', 'e')), ScalarTimesOperator(-2*g, OperatorTimes(Create(LocalSpace('fock', 'jc1')), LocalSigma(LocalSpace('tls', 'jc1'), 'g', 'e'))), ScalarTimesOperator(-2*g, OperatorTimes(Destroy(LocalSpace('fock', 'jc1')), LocalSigma(LocalSpace('tls', 'jc1'), 'e', 'g'))))"
      ],
      "text/latex": "${\\rm  - 2 \\gamma {\\Pi_{{\\rm e}}^{{{\\rm tls}}_{{\\rm jc1}}}}} -  2 g  {a_{{{\\rm fock}}_{{\\rm jc1}}}^\\dagger} {\\sigma_{{\\rm g},{\\rm e}}^{{{\\rm tls}}_{{\\rm jc1}}}} -  2 g  {a_{{{\\rm fock}}_{{\\rm jc1}}}} {\\sigma_{{\\rm e},{\\rm g}}^{{{\\rm tls}}_{{\\rm jc1}}}}$"
     },
     "metadata": {},
     "execution_count": 83
    }
   ],
   "source": [
    "SYSSLH.symbolic_heisenberg_eom(Z1).expand()"
   ]
  },
  {
   "cell_type": "code",
   "execution_count": 84,
   "metadata": {},
   "outputs": [
    {
     "output_type": "execute_result",
     "data": {
      "text/plain": [
       "ZeroOperator"
      ],
      "text/latex": "$0$"
     },
     "metadata": {},
     "execution_count": 84
    }
   ],
   "source": [
    "SYSSLH.symbolic_heisenberg_eom(Z2).expand()"
   ]
  },
  {
   "cell_type": "code",
   "execution_count": 85,
   "metadata": {},
   "outputs": [
    {
     "output_type": "execute_result",
     "data": {
      "text/plain": [
       "SuperOperatorPlus(ScalarTimesSuperOperator(I*Delta - gamma/2, SPost(LocalSigma(LocalSpace('tls', 'jc1'), 'e', 'e'))), ScalarTimesSuperOperator(I*Theta - kappa/2, SPost(OperatorTimes(Create(LocalSpace('fock', 'jc1')), Destroy(LocalSpace('fock', 'jc1'))))), ScalarTimesSuperOperator(-g, SPost(OperatorTimes(Create(LocalSpace('fock', 'jc1')), LocalSigma(LocalSpace('tls', 'jc1'), 'g', 'e')))), ScalarTimesSuperOperator(g, SPost(OperatorTimes(Destroy(LocalSpace('fock', 'jc1')), LocalSigma(LocalSpace('tls', 'jc1'), 'e', 'g')))), ScalarTimesSuperOperator(-I*Delta - gamma/2, SPre(LocalSigma(LocalSpace('tls', 'jc1'), 'e', 'e'))), ScalarTimesSuperOperator(-I*Theta - kappa/2, SPre(OperatorTimes(Create(LocalSpace('fock', 'jc1')), Destroy(LocalSpace('fock', 'jc1'))))), ScalarTimesSuperOperator(g, SPre(OperatorTimes(Create(LocalSpace('fock', 'jc1')), LocalSigma(LocalSpace('tls', 'jc1'), 'g', 'e')))), ScalarTimesSuperOperator(-g, SPre(OperatorTimes(Destroy(LocalSpace('fock', 'jc1')), LocalSigma(LocalSpace('tls', 'jc1'), 'e', 'g')))), ScalarTimesSuperOperator(kappa, SuperOperatorTimes(SPre(Destroy(LocalSpace('fock', 'jc1'))), SPost(Create(LocalSpace('fock', 'jc1'))))), ScalarTimesSuperOperator(gamma, SuperOperatorTimes(SPre(LocalSigma(LocalSpace('tls', 'jc1'), 'g', 'e')), SPost(LocalSigma(LocalSpace('tls', 'jc1'), 'e', 'g')))))"
      ],
      "text/latex": "$\\left(i \\Delta - \\frac{\\gamma}{2}\\right) {\\rm spost}\\left[{\\Pi_{{\\rm e}}^{{{\\rm tls}}_{{\\rm jc1}}}}\\right] + \\left(i \\Theta - \\frac{\\kappa}{2}\\right) {\\rm spost}\\left[ {a_{{{\\rm fock}}_{{\\rm jc1}}}^\\dagger} {a_{{{\\rm fock}}_{{\\rm jc1}}}}\\right] - g {\\rm spost}\\left[ {a_{{{\\rm fock}}_{{\\rm jc1}}}^\\dagger} {\\sigma_{{\\rm g},{\\rm e}}^{{{\\rm tls}}_{{\\rm jc1}}}}\\right] + g {\\rm spost}\\left[ {a_{{{\\rm fock}}_{{\\rm jc1}}}} {\\sigma_{{\\rm e},{\\rm g}}^{{{\\rm tls}}_{{\\rm jc1}}}}\\right] - \\left(i \\Delta + \\frac{\\gamma}{2}\\right) {\\rm spre}\\left[{\\Pi_{{\\rm e}}^{{{\\rm tls}}_{{\\rm jc1}}}}\\right] - \\left(i \\Theta + \\frac{\\kappa}{2}\\right) {\\rm spre}\\left[ {a_{{{\\rm fock}}_{{\\rm jc1}}}^\\dagger} {a_{{{\\rm fock}}_{{\\rm jc1}}}}\\right] + g {\\rm spre}\\left[ {a_{{{\\rm fock}}_{{\\rm jc1}}}^\\dagger} {\\sigma_{{\\rm g},{\\rm e}}^{{{\\rm tls}}_{{\\rm jc1}}}}\\right] - g {\\rm spre}\\left[ {a_{{{\\rm fock}}_{{\\rm jc1}}}} {\\sigma_{{\\rm e},{\\rm g}}^{{{\\rm tls}}_{{\\rm jc1}}}}\\right] + \\kappa {\\rm spre}\\left[{a_{{{\\rm fock}}_{{\\rm jc1}}}}\\right] {\\rm spost}\\left[{a_{{{\\rm fock}}_{{\\rm jc1}}}^\\dagger}\\right] + \\gamma {\\rm spre}\\left[{\\sigma_{{\\rm g},{\\rm e}}^{{{\\rm tls}}_{{\\rm jc1}}}}\\right] {\\rm spost}\\left[{\\sigma_{{\\rm e},{\\rm g}}^{{{\\rm tls}}_{{\\rm jc1}}}}\\right]$"
     },
     "metadata": {},
     "execution_count": 85
    }
   ],
   "source": [
    "LL = SYSSLH.symbolic_liouvillian().expand()\n",
    "LL"
   ]
  },
  {
   "cell_type": "code",
   "execution_count": 86,
   "metadata": {},
   "outputs": [
    {
     "output_type": "execute_result",
     "data": {
      "text/plain": [
       "OperatorPlus(ScalarTimesOperator(-I*Theta - kappa/2, Destroy(LocalSpace('fock', 'jc1'))), ScalarTimesOperator(g, LocalSigma(LocalSpace('tls', 'jc1'), 'g', 'e')))"
      ],
      "text/latex": "${\\rm  - \\left(i \\Theta + \\frac{\\kappa}{2}\\right) {a_{{{\\rm fock}}_{{\\rm jc1}}}}} +  g {\\sigma_{{\\rm g},{\\rm e}}^{{{\\rm tls}}_{{\\rm jc1}}}}$"
     },
     "metadata": {},
     "execution_count": 86
    }
   ],
   "source": [
    "(LL.superadjoint() * a1).expand()"
   ]
  },
  {
   "cell_type": "code",
   "execution_count": 87,
   "metadata": {},
   "outputs": [],
   "source": [
    "NFock = 20\n",
    "fjc1.dimension = NFock\n",
    "# fjc2.dimension = NFock"
   ]
  },
  {
   "cell_type": "code",
   "execution_count": 88,
   "metadata": {},
   "outputs": [
    {
     "output_type": "execute_result",
     "data": {
      "text/plain": [
       "20"
      ]
     },
     "metadata": {},
     "execution_count": 88
    }
   ],
   "source": [
    "a1.space.dimension"
   ]
  },
  {
   "cell_type": "code",
   "execution_count": 89,
   "metadata": {},
   "outputs": [
    {
     "output_type": "execute_result",
     "data": {
      "text/plain": [
       "40"
      ]
     },
     "metadata": {},
     "execution_count": 89
    }
   ],
   "source": [
    "SYS.space.dimension"
   ]
  },
  {
   "cell_type": "code",
   "execution_count": 90,
   "metadata": {},
   "outputs": [
    {
     "output_type": "execute_result",
     "data": {
      "text/plain": [
       "SLH(Matrix([[1, 0, 0], [0, 1, 0], [0, 0, 1]]), Matrix([[ScalarTimesOperator(3.00000000000000, Destroy(LocalSpace('fock', 'jc1')))], [LocalSigma(LocalSpace('tls', 'jc1'), 'g', 'e')], [0]]), OperatorPlus(ScalarTimesOperator(0.200000000000000, LocalSigma(LocalSpace('tls', 'jc1'), 'e', 'e')), ScalarTimesOperator(0.300000000000000, OperatorTimes(Create(LocalSpace('fock', 'jc1')), Destroy(LocalSpace('fock', 'jc1')))), ScalarTimesOperator(20.0*I, OperatorTimes(Create(LocalSpace('fock', 'jc1')), LocalSigma(LocalSpace('tls', 'jc1'), 'g', 'e'))), ScalarTimesOperator(-20.0*I, OperatorTimes(Destroy(LocalSpace('fock', 'jc1')), LocalSigma(LocalSpace('tls', 'jc1'), 'e', 'g')))))"
      ],
      "text/latex": "$\\left( \\begin{pmatrix} {\\rm 1} & {\\rm 0} & {\\rm 0} \\\\ {\\rm 0} & {\\rm 1} & {\\rm 0} \\\\ {\\rm 0} & {\\rm 0} & {\\rm 1}\\end{pmatrix}, \\begin{pmatrix}  3.0 {a_{{{\\rm fock}}_{{\\rm jc1}}}} \\\\ {\\sigma_{{\\rm g},{\\rm e}}^{{{\\rm tls}}_{{\\rm jc1}}}} \\\\ 0\\end{pmatrix}, {\\rm  0.2 {\\Pi_{{\\rm e}}^{{{\\rm tls}}_{{\\rm jc1}}}}} +  0.3  {a_{{{\\rm fock}}_{{\\rm jc1}}}^\\dagger} {a_{{{\\rm fock}}_{{\\rm jc1}}}} +  20.0 i  {a_{{{\\rm fock}}_{{\\rm jc1}}}^\\dagger} {\\sigma_{{\\rm g},{\\rm e}}^{{{\\rm tls}}_{{\\rm jc1}}}} -  20.0 i  {a_{{{\\rm fock}}_{{\\rm jc1}}}} {\\sigma_{{\\rm e},{\\rm g}}^{{{\\rm tls}}_{{\\rm jc1}}}} \\right)$"
     },
     "metadata": {},
     "execution_count": 90
    }
   ],
   "source": [
    "numerical_params = {\n",
    "                    alpha: 5.,\n",
    "                    g: 20.,\n",
    "                    kappa: 9.,\n",
    "                    gamma: 1.,\n",
    "                    Delta: 0.2,\n",
    "                    Theta: 0.3,\n",
    "                   }\n",
    "SYSSLHN = SYSSLH.substitute(numerical_params)\n",
    "SYSSLHN"
   ]
  },
  {
   "cell_type": "code",
   "execution_count": 91,
   "metadata": {},
   "outputs": [],
   "source": [
    "H, Ls = SYSSLHN.HL_to_qutip()"
   ]
  },
  {
   "cell_type": "code",
   "execution_count": 92,
   "metadata": {},
   "outputs": [],
   "source": [
    "obs = [a1.dag() + a1, Z1]\n",
    "obsqt = [o.to_qutip(SYS.space) for o in obs]"
   ]
  },
  {
   "cell_type": "code",
   "execution_count": 93,
   "metadata": {},
   "outputs": [
    {
     "output_type": "execute_result",
     "data": {
      "text/plain": [
       "ProductSpace(LocalSpace('fock', 'jc1'), LocalSpace('tls', 'jc1'))"
      ],
      "text/latex": "${{\\rm fock}}_{{\\rm jc1}} \\otimes {{\\rm tls}}_{{\\rm jc1}}$"
     },
     "metadata": {},
     "execution_count": 93
    }
   ],
   "source": [
    "SYS.space"
   ]
  },
  {
   "cell_type": "code",
   "execution_count": 96,
   "metadata": {},
   "outputs": [],
   "source": [
    "fvac = qutip.basis(NFock, 0)\n",
    "ag = qutip.basis(2, 1)\n",
    "\n",
    "# need to reproduce correct ordering of local spaces in tensor product\n",
    "psi0 = qutip.tensor(fvac, ag)"
   ]
  },
  {
   "cell_type": "code",
   "execution_count": 97,
   "metadata": {},
   "outputs": [
    {
     "output_type": "stream",
     "name": "stdout",
     "text": [
      "Total run time:   0.01s\n"
     ]
    }
   ],
   "source": [
    "times = np.arange(0, 100., .5)\n",
    "data = qutip.mcsolve(H, psi0, times, Ls, obsqt, ntraj = 1, options=qutip.Odeoptions(gui=False))"
   ]
  },
  {
   "cell_type": "code",
   "execution_count": 98,
   "metadata": {},
   "outputs": [
    {
     "output_type": "execute_result",
     "data": {
      "text/plain": [
       "Text(0.5, 0, 'time $t$')"
      ]
     },
     "metadata": {},
     "execution_count": 98
    },
    {
     "output_type": "display_data",
     "data": {
      "text/plain": "<Figure size 720x576 with 1 Axes>",
      "image/svg+xml": "<?xml version=\"1.0\" encoding=\"utf-8\" standalone=\"no\"?>\n<!DOCTYPE svg PUBLIC \"-//W3C//DTD SVG 1.1//EN\"\n  \"http://www.w3.org/Graphics/SVG/1.1/DTD/svg11.dtd\">\n<!-- Created with matplotlib (https://matplotlib.org/) -->\n<svg height=\"479.63625pt\" version=\"1.1\" viewBox=\"0 0 603.682813 479.63625\" width=\"603.682813pt\" xmlns=\"http://www.w3.org/2000/svg\" xmlns:xlink=\"http://www.w3.org/1999/xlink\">\n <metadata>\n  <rdf:RDF xmlns:cc=\"http://creativecommons.org/ns#\" xmlns:dc=\"http://purl.org/dc/elements/1.1/\" xmlns:rdf=\"http://www.w3.org/1999/02/22-rdf-syntax-ns#\">\n   <cc:Work>\n    <dc:type rdf:resource=\"http://purl.org/dc/dcmitype/StillImage\"/>\n    <dc:date>2021-01-26T13:45:41.110107</dc:date>\n    <dc:format>image/svg+xml</dc:format>\n    <dc:creator>\n     <cc:Agent>\n      <dc:title>Matplotlib v3.3.2, https://matplotlib.org/</dc:title>\n     </cc:Agent>\n    </dc:creator>\n   </cc:Work>\n  </rdf:RDF>\n </metadata>\n <defs>\n  <style type=\"text/css\">*{stroke-linecap:butt;stroke-linejoin:round;}</style>\n </defs>\n <g id=\"figure_1\">\n  <g id=\"patch_1\">\n   <path d=\"M 0 479.63625 \nL 603.682813 479.63625 \nL 603.682813 0 \nL 0 0 \nz\n\" style=\"fill:none;\"/>\n  </g>\n  <g id=\"axes_1\">\n   <g id=\"patch_2\">\n    <path d=\"M 38.482813 442.08 \nL 596.482813 442.08 \nL 596.482813 7.2 \nL 38.482813 7.2 \nz\n\" style=\"fill:#ffffff;\"/>\n   </g>\n   <g id=\"matplotlib.axis_1\">\n    <g id=\"xtick_1\">\n     <g id=\"line2d_1\">\n      <defs>\n       <path d=\"M 0 0 \nL 0 3.5 \n\" id=\"mc2e18f012e\" style=\"stroke:#000000;stroke-width:0.8;\"/>\n      </defs>\n      <g>\n       <use style=\"stroke:#000000;stroke-width:0.8;\" x=\"63.846449\" xlink:href=\"#mc2e18f012e\" y=\"442.08\"/>\n      </g>\n     </g>\n     <g id=\"text_1\">\n      <!-- 0 -->\n      <g transform=\"translate(60.665199 456.678437)scale(0.1 -0.1)\">\n       <defs>\n        <path d=\"M 31.78125 66.40625 \nQ 24.171875 66.40625 20.328125 58.90625 \nQ 16.5 51.421875 16.5 36.375 \nQ 16.5 21.390625 20.328125 13.890625 \nQ 24.171875 6.390625 31.78125 6.390625 \nQ 39.453125 6.390625 43.28125 13.890625 \nQ 47.125 21.390625 47.125 36.375 \nQ 47.125 51.421875 43.28125 58.90625 \nQ 39.453125 66.40625 31.78125 66.40625 \nz\nM 31.78125 74.21875 \nQ 44.046875 74.21875 50.515625 64.515625 \nQ 56.984375 54.828125 56.984375 36.375 \nQ 56.984375 17.96875 50.515625 8.265625 \nQ 44.046875 -1.421875 31.78125 -1.421875 \nQ 19.53125 -1.421875 13.0625 8.265625 \nQ 6.59375 17.96875 6.59375 36.375 \nQ 6.59375 54.828125 13.0625 64.515625 \nQ 19.53125 74.21875 31.78125 74.21875 \nz\n\" id=\"DejaVuSans-48\"/>\n       </defs>\n       <use xlink:href=\"#DejaVuSans-48\"/>\n      </g>\n     </g>\n    </g>\n    <g id=\"xtick_2\">\n     <g id=\"line2d_2\">\n      <g>\n       <use style=\"stroke:#000000;stroke-width:0.8;\" x=\"165.810816\" xlink:href=\"#mc2e18f012e\" y=\"442.08\"/>\n      </g>\n     </g>\n     <g id=\"text_2\">\n      <!-- 20 -->\n      <g transform=\"translate(159.448316 456.678437)scale(0.1 -0.1)\">\n       <defs>\n        <path d=\"M 19.1875 8.296875 \nL 53.609375 8.296875 \nL 53.609375 0 \nL 7.328125 0 \nL 7.328125 8.296875 \nQ 12.9375 14.109375 22.625 23.890625 \nQ 32.328125 33.6875 34.8125 36.53125 \nQ 39.546875 41.84375 41.421875 45.53125 \nQ 43.3125 49.21875 43.3125 52.78125 \nQ 43.3125 58.59375 39.234375 62.25 \nQ 35.15625 65.921875 28.609375 65.921875 \nQ 23.96875 65.921875 18.8125 64.3125 \nQ 13.671875 62.703125 7.8125 59.421875 \nL 7.8125 69.390625 \nQ 13.765625 71.78125 18.9375 73 \nQ 24.125 74.21875 28.421875 74.21875 \nQ 39.75 74.21875 46.484375 68.546875 \nQ 53.21875 62.890625 53.21875 53.421875 \nQ 53.21875 48.921875 51.53125 44.890625 \nQ 49.859375 40.875 45.40625 35.40625 \nQ 44.1875 33.984375 37.640625 27.21875 \nQ 31.109375 20.453125 19.1875 8.296875 \nz\n\" id=\"DejaVuSans-50\"/>\n       </defs>\n       <use xlink:href=\"#DejaVuSans-50\"/>\n       <use x=\"63.623047\" xlink:href=\"#DejaVuSans-48\"/>\n      </g>\n     </g>\n    </g>\n    <g id=\"xtick_3\">\n     <g id=\"line2d_3\">\n      <g>\n       <use style=\"stroke:#000000;stroke-width:0.8;\" x=\"267.775183\" xlink:href=\"#mc2e18f012e\" y=\"442.08\"/>\n      </g>\n     </g>\n     <g id=\"text_3\">\n      <!-- 40 -->\n      <g transform=\"translate(261.412683 456.678437)scale(0.1 -0.1)\">\n       <defs>\n        <path d=\"M 37.796875 64.3125 \nL 12.890625 25.390625 \nL 37.796875 25.390625 \nz\nM 35.203125 72.90625 \nL 47.609375 72.90625 \nL 47.609375 25.390625 \nL 58.015625 25.390625 \nL 58.015625 17.1875 \nL 47.609375 17.1875 \nL 47.609375 0 \nL 37.796875 0 \nL 37.796875 17.1875 \nL 4.890625 17.1875 \nL 4.890625 26.703125 \nz\n\" id=\"DejaVuSans-52\"/>\n       </defs>\n       <use xlink:href=\"#DejaVuSans-52\"/>\n       <use x=\"63.623047\" xlink:href=\"#DejaVuSans-48\"/>\n      </g>\n     </g>\n    </g>\n    <g id=\"xtick_4\">\n     <g id=\"line2d_4\">\n      <g>\n       <use style=\"stroke:#000000;stroke-width:0.8;\" x=\"369.739551\" xlink:href=\"#mc2e18f012e\" y=\"442.08\"/>\n      </g>\n     </g>\n     <g id=\"text_4\">\n      <!-- 60 -->\n      <g transform=\"translate(363.377051 456.678437)scale(0.1 -0.1)\">\n       <defs>\n        <path d=\"M 33.015625 40.375 \nQ 26.375 40.375 22.484375 35.828125 \nQ 18.609375 31.296875 18.609375 23.390625 \nQ 18.609375 15.53125 22.484375 10.953125 \nQ 26.375 6.390625 33.015625 6.390625 \nQ 39.65625 6.390625 43.53125 10.953125 \nQ 47.40625 15.53125 47.40625 23.390625 \nQ 47.40625 31.296875 43.53125 35.828125 \nQ 39.65625 40.375 33.015625 40.375 \nz\nM 52.59375 71.296875 \nL 52.59375 62.3125 \nQ 48.875 64.0625 45.09375 64.984375 \nQ 41.3125 65.921875 37.59375 65.921875 \nQ 27.828125 65.921875 22.671875 59.328125 \nQ 17.53125 52.734375 16.796875 39.40625 \nQ 19.671875 43.65625 24.015625 45.921875 \nQ 28.375 48.1875 33.59375 48.1875 \nQ 44.578125 48.1875 50.953125 41.515625 \nQ 57.328125 34.859375 57.328125 23.390625 \nQ 57.328125 12.15625 50.6875 5.359375 \nQ 44.046875 -1.421875 33.015625 -1.421875 \nQ 20.359375 -1.421875 13.671875 8.265625 \nQ 6.984375 17.96875 6.984375 36.375 \nQ 6.984375 53.65625 15.1875 63.9375 \nQ 23.390625 74.21875 37.203125 74.21875 \nQ 40.921875 74.21875 44.703125 73.484375 \nQ 48.484375 72.75 52.59375 71.296875 \nz\n\" id=\"DejaVuSans-54\"/>\n       </defs>\n       <use xlink:href=\"#DejaVuSans-54\"/>\n       <use x=\"63.623047\" xlink:href=\"#DejaVuSans-48\"/>\n      </g>\n     </g>\n    </g>\n    <g id=\"xtick_5\">\n     <g id=\"line2d_5\">\n      <g>\n       <use style=\"stroke:#000000;stroke-width:0.8;\" x=\"471.703918\" xlink:href=\"#mc2e18f012e\" y=\"442.08\"/>\n      </g>\n     </g>\n     <g id=\"text_5\">\n      <!-- 80 -->\n      <g transform=\"translate(465.341418 456.678437)scale(0.1 -0.1)\">\n       <defs>\n        <path d=\"M 31.78125 34.625 \nQ 24.75 34.625 20.71875 30.859375 \nQ 16.703125 27.09375 16.703125 20.515625 \nQ 16.703125 13.921875 20.71875 10.15625 \nQ 24.75 6.390625 31.78125 6.390625 \nQ 38.8125 6.390625 42.859375 10.171875 \nQ 46.921875 13.96875 46.921875 20.515625 \nQ 46.921875 27.09375 42.890625 30.859375 \nQ 38.875 34.625 31.78125 34.625 \nz\nM 21.921875 38.8125 \nQ 15.578125 40.375 12.03125 44.71875 \nQ 8.5 49.078125 8.5 55.328125 \nQ 8.5 64.0625 14.71875 69.140625 \nQ 20.953125 74.21875 31.78125 74.21875 \nQ 42.671875 74.21875 48.875 69.140625 \nQ 55.078125 64.0625 55.078125 55.328125 \nQ 55.078125 49.078125 51.53125 44.71875 \nQ 48 40.375 41.703125 38.8125 \nQ 48.828125 37.15625 52.796875 32.3125 \nQ 56.78125 27.484375 56.78125 20.515625 \nQ 56.78125 9.90625 50.3125 4.234375 \nQ 43.84375 -1.421875 31.78125 -1.421875 \nQ 19.734375 -1.421875 13.25 4.234375 \nQ 6.78125 9.90625 6.78125 20.515625 \nQ 6.78125 27.484375 10.78125 32.3125 \nQ 14.796875 37.15625 21.921875 38.8125 \nz\nM 18.3125 54.390625 \nQ 18.3125 48.734375 21.84375 45.5625 \nQ 25.390625 42.390625 31.78125 42.390625 \nQ 38.140625 42.390625 41.71875 45.5625 \nQ 45.3125 48.734375 45.3125 54.390625 \nQ 45.3125 60.0625 41.71875 63.234375 \nQ 38.140625 66.40625 31.78125 66.40625 \nQ 25.390625 66.40625 21.84375 63.234375 \nQ 18.3125 60.0625 18.3125 54.390625 \nz\n\" id=\"DejaVuSans-56\"/>\n       </defs>\n       <use xlink:href=\"#DejaVuSans-56\"/>\n       <use x=\"63.623047\" xlink:href=\"#DejaVuSans-48\"/>\n      </g>\n     </g>\n    </g>\n    <g id=\"xtick_6\">\n     <g id=\"line2d_6\">\n      <g>\n       <use style=\"stroke:#000000;stroke-width:0.8;\" x=\"573.668285\" xlink:href=\"#mc2e18f012e\" y=\"442.08\"/>\n      </g>\n     </g>\n     <g id=\"text_6\">\n      <!-- 100 -->\n      <g transform=\"translate(564.124535 456.678437)scale(0.1 -0.1)\">\n       <defs>\n        <path d=\"M 12.40625 8.296875 \nL 28.515625 8.296875 \nL 28.515625 63.921875 \nL 10.984375 60.40625 \nL 10.984375 69.390625 \nL 28.421875 72.90625 \nL 38.28125 72.90625 \nL 38.28125 8.296875 \nL 54.390625 8.296875 \nL 54.390625 0 \nL 12.40625 0 \nz\n\" id=\"DejaVuSans-49\"/>\n       </defs>\n       <use xlink:href=\"#DejaVuSans-49\"/>\n       <use x=\"63.623047\" xlink:href=\"#DejaVuSans-48\"/>\n       <use x=\"127.246094\" xlink:href=\"#DejaVuSans-48\"/>\n      </g>\n     </g>\n    </g>\n    <g id=\"text_7\">\n     <!-- time $t$ -->\n     <g transform=\"translate(302.632812 470.356562)scale(0.1 -0.1)\">\n      <defs>\n       <path d=\"M 18.3125 70.21875 \nL 18.3125 54.6875 \nL 36.8125 54.6875 \nL 36.8125 47.703125 \nL 18.3125 47.703125 \nL 18.3125 18.015625 \nQ 18.3125 11.328125 20.140625 9.421875 \nQ 21.96875 7.515625 27.59375 7.515625 \nL 36.8125 7.515625 \nL 36.8125 0 \nL 27.59375 0 \nQ 17.1875 0 13.234375 3.875 \nQ 9.28125 7.765625 9.28125 18.015625 \nL 9.28125 47.703125 \nL 2.6875 47.703125 \nL 2.6875 54.6875 \nL 9.28125 54.6875 \nL 9.28125 70.21875 \nz\n\" id=\"DejaVuSans-116\"/>\n       <path d=\"M 9.421875 54.6875 \nL 18.40625 54.6875 \nL 18.40625 0 \nL 9.421875 0 \nz\nM 9.421875 75.984375 \nL 18.40625 75.984375 \nL 18.40625 64.59375 \nL 9.421875 64.59375 \nz\n\" id=\"DejaVuSans-105\"/>\n       <path d=\"M 52 44.1875 \nQ 55.375 50.25 60.0625 53.125 \nQ 64.75 56 71.09375 56 \nQ 79.640625 56 84.28125 50.015625 \nQ 88.921875 44.046875 88.921875 33.015625 \nL 88.921875 0 \nL 79.890625 0 \nL 79.890625 32.71875 \nQ 79.890625 40.578125 77.09375 44.375 \nQ 74.3125 48.1875 68.609375 48.1875 \nQ 61.625 48.1875 57.5625 43.546875 \nQ 53.515625 38.921875 53.515625 30.90625 \nL 53.515625 0 \nL 44.484375 0 \nL 44.484375 32.71875 \nQ 44.484375 40.625 41.703125 44.40625 \nQ 38.921875 48.1875 33.109375 48.1875 \nQ 26.21875 48.1875 22.15625 43.53125 \nQ 18.109375 38.875 18.109375 30.90625 \nL 18.109375 0 \nL 9.078125 0 \nL 9.078125 54.6875 \nL 18.109375 54.6875 \nL 18.109375 46.1875 \nQ 21.1875 51.21875 25.484375 53.609375 \nQ 29.78125 56 35.6875 56 \nQ 41.65625 56 45.828125 52.96875 \nQ 50 49.953125 52 44.1875 \nz\n\" id=\"DejaVuSans-109\"/>\n       <path d=\"M 56.203125 29.59375 \nL 56.203125 25.203125 \nL 14.890625 25.203125 \nQ 15.484375 15.921875 20.484375 11.0625 \nQ 25.484375 6.203125 34.421875 6.203125 \nQ 39.59375 6.203125 44.453125 7.46875 \nQ 49.3125 8.734375 54.109375 11.28125 \nL 54.109375 2.78125 \nQ 49.265625 0.734375 44.1875 -0.34375 \nQ 39.109375 -1.421875 33.890625 -1.421875 \nQ 20.796875 -1.421875 13.15625 6.1875 \nQ 5.515625 13.8125 5.515625 26.8125 \nQ 5.515625 40.234375 12.765625 48.109375 \nQ 20.015625 56 32.328125 56 \nQ 43.359375 56 49.78125 48.890625 \nQ 56.203125 41.796875 56.203125 29.59375 \nz\nM 47.21875 32.234375 \nQ 47.125 39.59375 43.09375 43.984375 \nQ 39.0625 48.390625 32.421875 48.390625 \nQ 24.90625 48.390625 20.390625 44.140625 \nQ 15.875 39.890625 15.1875 32.171875 \nz\n\" id=\"DejaVuSans-101\"/>\n       <path id=\"DejaVuSans-32\"/>\n       <path d=\"M 42.28125 54.6875 \nL 40.921875 47.703125 \nL 23 47.703125 \nL 17.1875 18.015625 \nQ 16.890625 16.359375 16.75 15.234375 \nQ 16.609375 14.109375 16.609375 13.484375 \nQ 16.609375 10.359375 18.484375 8.9375 \nQ 20.359375 7.515625 24.515625 7.515625 \nL 33.59375 7.515625 \nL 32.078125 0 \nL 23.484375 0 \nQ 15.484375 0 11.546875 3.125 \nQ 7.625 6.25 7.625 12.59375 \nQ 7.625 13.71875 7.765625 15.0625 \nQ 7.90625 16.40625 8.203125 18.015625 \nL 14.015625 47.703125 \nL 6.390625 47.703125 \nL 7.8125 54.6875 \nL 15.28125 54.6875 \nL 18.3125 70.21875 \nL 27.296875 70.21875 \nL 24.3125 54.6875 \nz\n\" id=\"DejaVuSans-Oblique-116\"/>\n      </defs>\n      <use transform=\"translate(0 0.015625)\" xlink:href=\"#DejaVuSans-116\"/>\n      <use transform=\"translate(39.208984 0.015625)\" xlink:href=\"#DejaVuSans-105\"/>\n      <use transform=\"translate(66.992188 0.015625)\" xlink:href=\"#DejaVuSans-109\"/>\n      <use transform=\"translate(164.404297 0.015625)\" xlink:href=\"#DejaVuSans-101\"/>\n      <use transform=\"translate(225.927734 0.015625)\" xlink:href=\"#DejaVuSans-32\"/>\n      <use transform=\"translate(257.714844 0.015625)\" xlink:href=\"#DejaVuSans-Oblique-116\"/>\n     </g>\n    </g>\n   </g>\n   <g id=\"matplotlib.axis_2\">\n    <g id=\"ytick_1\">\n     <g id=\"line2d_7\">\n      <defs>\n       <path d=\"M 0 0 \nL -3.5 0 \n\" id=\"m67165882e8\" style=\"stroke:#000000;stroke-width:0.8;\"/>\n      </defs>\n      <g>\n       <use style=\"stroke:#000000;stroke-width:0.8;\" x=\"38.482813\" xlink:href=\"#m67165882e8\" y=\"422.312727\"/>\n      </g>\n     </g>\n     <g id=\"text_8\">\n      <!-- −1.0 -->\n      <g transform=\"translate(7.2 426.111946)scale(0.1 -0.1)\">\n       <defs>\n        <path d=\"M 10.59375 35.5 \nL 73.1875 35.5 \nL 73.1875 27.203125 \nL 10.59375 27.203125 \nz\n\" id=\"DejaVuSans-8722\"/>\n        <path d=\"M 10.6875 12.40625 \nL 21 12.40625 \nL 21 0 \nL 10.6875 0 \nz\n\" id=\"DejaVuSans-46\"/>\n       </defs>\n       <use xlink:href=\"#DejaVuSans-8722\"/>\n       <use x=\"83.789062\" xlink:href=\"#DejaVuSans-49\"/>\n       <use x=\"147.412109\" xlink:href=\"#DejaVuSans-46\"/>\n       <use x=\"179.199219\" xlink:href=\"#DejaVuSans-48\"/>\n      </g>\n     </g>\n    </g>\n    <g id=\"ytick_2\">\n     <g id=\"line2d_8\">\n      <g>\n       <use style=\"stroke:#000000;stroke-width:0.8;\" x=\"38.482813\" xlink:href=\"#m67165882e8\" y=\"343.243636\"/>\n      </g>\n     </g>\n     <g id=\"text_9\">\n      <!-- −0.8 -->\n      <g transform=\"translate(7.2 347.042855)scale(0.1 -0.1)\">\n       <use xlink:href=\"#DejaVuSans-8722\"/>\n       <use x=\"83.789062\" xlink:href=\"#DejaVuSans-48\"/>\n       <use x=\"147.412109\" xlink:href=\"#DejaVuSans-46\"/>\n       <use x=\"179.199219\" xlink:href=\"#DejaVuSans-56\"/>\n      </g>\n     </g>\n    </g>\n    <g id=\"ytick_3\">\n     <g id=\"line2d_9\">\n      <g>\n       <use style=\"stroke:#000000;stroke-width:0.8;\" x=\"38.482813\" xlink:href=\"#m67165882e8\" y=\"264.174545\"/>\n      </g>\n     </g>\n     <g id=\"text_10\">\n      <!-- −0.6 -->\n      <g transform=\"translate(7.2 267.973764)scale(0.1 -0.1)\">\n       <use xlink:href=\"#DejaVuSans-8722\"/>\n       <use x=\"83.789062\" xlink:href=\"#DejaVuSans-48\"/>\n       <use x=\"147.412109\" xlink:href=\"#DejaVuSans-46\"/>\n       <use x=\"179.199219\" xlink:href=\"#DejaVuSans-54\"/>\n      </g>\n     </g>\n    </g>\n    <g id=\"ytick_4\">\n     <g id=\"line2d_10\">\n      <g>\n       <use style=\"stroke:#000000;stroke-width:0.8;\" x=\"38.482813\" xlink:href=\"#m67165882e8\" y=\"185.105455\"/>\n      </g>\n     </g>\n     <g id=\"text_11\">\n      <!-- −0.4 -->\n      <g transform=\"translate(7.2 188.904673)scale(0.1 -0.1)\">\n       <use xlink:href=\"#DejaVuSans-8722\"/>\n       <use x=\"83.789062\" xlink:href=\"#DejaVuSans-48\"/>\n       <use x=\"147.412109\" xlink:href=\"#DejaVuSans-46\"/>\n       <use x=\"179.199219\" xlink:href=\"#DejaVuSans-52\"/>\n      </g>\n     </g>\n    </g>\n    <g id=\"ytick_5\">\n     <g id=\"line2d_11\">\n      <g>\n       <use style=\"stroke:#000000;stroke-width:0.8;\" x=\"38.482813\" xlink:href=\"#m67165882e8\" y=\"106.036364\"/>\n      </g>\n     </g>\n     <g id=\"text_12\">\n      <!-- −0.2 -->\n      <g transform=\"translate(7.2 109.835582)scale(0.1 -0.1)\">\n       <use xlink:href=\"#DejaVuSans-8722\"/>\n       <use x=\"83.789062\" xlink:href=\"#DejaVuSans-48\"/>\n       <use x=\"147.412109\" xlink:href=\"#DejaVuSans-46\"/>\n       <use x=\"179.199219\" xlink:href=\"#DejaVuSans-50\"/>\n      </g>\n     </g>\n    </g>\n    <g id=\"ytick_6\">\n     <g id=\"line2d_12\">\n      <g>\n       <use style=\"stroke:#000000;stroke-width:0.8;\" x=\"38.482813\" xlink:href=\"#m67165882e8\" y=\"26.967273\"/>\n      </g>\n     </g>\n     <g id=\"text_13\">\n      <!-- 0.0 -->\n      <g transform=\"translate(15.579688 30.766491)scale(0.1 -0.1)\">\n       <use xlink:href=\"#DejaVuSans-48\"/>\n       <use x=\"63.623047\" xlink:href=\"#DejaVuSans-46\"/>\n       <use x=\"95.410156\" xlink:href=\"#DejaVuSans-48\"/>\n      </g>\n     </g>\n    </g>\n   </g>\n   <g id=\"line2d_13\">\n    <path clip-path=\"url(#p4611e75b37)\" d=\"M 63.846449 26.967273 \nL 571.119176 26.967273 \nL 571.119176 26.967273 \n\" style=\"fill:none;stroke:#1f77b4;stroke-linecap:square;stroke-width:1.5;\"/>\n   </g>\n   <g id=\"line2d_14\">\n    <path clip-path=\"url(#p4611e75b37)\" d=\"M 63.846449 422.312727 \nL 571.119176 422.312727 \nL 571.119176 422.312727 \n\" style=\"fill:none;stroke:#ff7f0e;stroke-linecap:square;stroke-width:1.5;\"/>\n   </g>\n   <g id=\"patch_3\">\n    <path d=\"M 38.482813 442.08 \nL 38.482813 7.2 \n\" style=\"fill:none;stroke:#000000;stroke-linecap:square;stroke-linejoin:miter;stroke-width:0.8;\"/>\n   </g>\n   <g id=\"patch_4\">\n    <path d=\"M 596.482813 442.08 \nL 596.482813 7.2 \n\" style=\"fill:none;stroke:#000000;stroke-linecap:square;stroke-linejoin:miter;stroke-width:0.8;\"/>\n   </g>\n   <g id=\"patch_5\">\n    <path d=\"M 38.482813 442.08 \nL 596.482813 442.08 \n\" style=\"fill:none;stroke:#000000;stroke-linecap:square;stroke-linejoin:miter;stroke-width:0.8;\"/>\n   </g>\n   <g id=\"patch_6\">\n    <path d=\"M 38.482813 7.2 \nL 596.482813 7.2 \n\" style=\"fill:none;stroke:#000000;stroke-linecap:square;stroke-linejoin:miter;stroke-width:0.8;\"/>\n   </g>\n   <g id=\"legend_1\">\n    <g id=\"patch_7\">\n     <path d=\"M 478.282813 245.59 \nL 589.482813 245.59 \nQ 591.482813 245.59 591.482813 243.59 \nL 591.482813 205.69 \nQ 591.482813 203.69 589.482813 203.69 \nL 478.282813 203.69 \nQ 476.282813 203.69 476.282813 205.69 \nL 476.282813 243.59 \nQ 476.282813 245.59 478.282813 245.59 \nz\n\" style=\"fill:#ffffff;opacity:0.8;stroke:#cccccc;stroke-linejoin:miter;\"/>\n    </g>\n    <g id=\"line2d_15\">\n     <path d=\"M 480.282813 213.89 \nL 500.282813 213.89 \n\" style=\"fill:none;stroke:#1f77b4;stroke-linecap:square;stroke-width:1.5;\"/>\n    </g>\n    <g id=\"line2d_16\"/>\n    <g id=\"text_14\">\n     <!-- $\\left\\langle {\\rm {a_{{{\\rm fock}}_{{\\rm jc1}}}^\\dagger}} + {a_{{{\\rm fock}}_{{\\rm jc1}}}} \\right\\rangle$ -->\n     <g transform=\"translate(508.282813 217.39)scale(0.1 -0.1)\">\n      <defs>\n       <path d=\"M 53.09375 -27.90625 \nL 44.09375 -27.90625 \nL 9.5 64.296875 \nL 44.09375 156.59375 \nL 53.09375 156.59375 \nL 19 64.296875 \nz\n\" id=\"STIXSizeTwoSym-Regular-10216\"/>\n       <path d=\"M 34.28125 27.484375 \nQ 23.390625 27.484375 19.1875 25 \nQ 14.984375 22.515625 14.984375 16.5 \nQ 14.984375 11.71875 18.140625 8.90625 \nQ 21.296875 6.109375 26.703125 6.109375 \nQ 34.1875 6.109375 38.703125 11.40625 \nQ 43.21875 16.703125 43.21875 25.484375 \nL 43.21875 27.484375 \nz\nM 52.203125 31.203125 \nL 52.203125 0 \nL 43.21875 0 \nL 43.21875 8.296875 \nQ 40.140625 3.328125 35.546875 0.953125 \nQ 30.953125 -1.421875 24.3125 -1.421875 \nQ 15.921875 -1.421875 10.953125 3.296875 \nQ 6 8.015625 6 15.921875 \nQ 6 25.140625 12.171875 29.828125 \nQ 18.359375 34.515625 30.609375 34.515625 \nL 43.21875 34.515625 \nL 43.21875 35.40625 \nQ 43.21875 41.609375 39.140625 45 \nQ 35.0625 48.390625 27.6875 48.390625 \nQ 23 48.390625 18.546875 47.265625 \nQ 14.109375 46.140625 10.015625 43.890625 \nL 10.015625 52.203125 \nQ 14.9375 54.109375 19.578125 55.046875 \nQ 24.21875 56 28.609375 56 \nQ 40.484375 56 46.34375 49.84375 \nQ 52.203125 43.703125 52.203125 31.203125 \nz\n\" id=\"DejaVuSans-97\"/>\n       <path d=\"M 20.703125 72.90625 \nL 29.296875 72.90625 \nL 29.296875 52.390625 \nL 47.21875 52.390625 \nL 47.21875 44.921875 \nL 29.296875 44.921875 \nL 29.296875 -9.625 \nL 20.703125 -9.625 \nL 20.703125 44.921875 \nL 2.78125 44.921875 \nL 2.78125 52.390625 \nL 20.703125 52.390625 \nz\n\" id=\"DejaVuSans-8224\"/>\n       <path d=\"M 37.109375 75.984375 \nL 37.109375 68.5 \nL 28.515625 68.5 \nQ 23.6875 68.5 21.796875 66.546875 \nQ 19.921875 64.59375 19.921875 59.515625 \nL 19.921875 54.6875 \nL 34.71875 54.6875 \nL 34.71875 47.703125 \nL 19.921875 47.703125 \nL 19.921875 0 \nL 10.890625 0 \nL 10.890625 47.703125 \nL 2.296875 47.703125 \nL 2.296875 54.6875 \nL 10.890625 54.6875 \nL 10.890625 58.5 \nQ 10.890625 67.625 15.140625 71.796875 \nQ 19.390625 75.984375 28.609375 75.984375 \nz\n\" id=\"DejaVuSans-102\"/>\n       <path d=\"M 30.609375 48.390625 \nQ 23.390625 48.390625 19.1875 42.75 \nQ 14.984375 37.109375 14.984375 27.296875 \nQ 14.984375 17.484375 19.15625 11.84375 \nQ 23.34375 6.203125 30.609375 6.203125 \nQ 37.796875 6.203125 41.984375 11.859375 \nQ 46.1875 17.53125 46.1875 27.296875 \nQ 46.1875 37.015625 41.984375 42.703125 \nQ 37.796875 48.390625 30.609375 48.390625 \nz\nM 30.609375 56 \nQ 42.328125 56 49.015625 48.375 \nQ 55.71875 40.765625 55.71875 27.296875 \nQ 55.71875 13.875 49.015625 6.21875 \nQ 42.328125 -1.421875 30.609375 -1.421875 \nQ 18.84375 -1.421875 12.171875 6.21875 \nQ 5.515625 13.875 5.515625 27.296875 \nQ 5.515625 40.765625 12.171875 48.375 \nQ 18.84375 56 30.609375 56 \nz\n\" id=\"DejaVuSans-111\"/>\n       <path d=\"M 48.78125 52.59375 \nL 48.78125 44.1875 \nQ 44.96875 46.296875 41.140625 47.34375 \nQ 37.3125 48.390625 33.40625 48.390625 \nQ 24.65625 48.390625 19.8125 42.84375 \nQ 14.984375 37.3125 14.984375 27.296875 \nQ 14.984375 17.28125 19.8125 11.734375 \nQ 24.65625 6.203125 33.40625 6.203125 \nQ 37.3125 6.203125 41.140625 7.25 \nQ 44.96875 8.296875 48.78125 10.40625 \nL 48.78125 2.09375 \nQ 45.015625 0.34375 40.984375 -0.53125 \nQ 36.96875 -1.421875 32.421875 -1.421875 \nQ 20.0625 -1.421875 12.78125 6.34375 \nQ 5.515625 14.109375 5.515625 27.296875 \nQ 5.515625 40.671875 12.859375 48.328125 \nQ 20.21875 56 33.015625 56 \nQ 37.15625 56 41.109375 55.140625 \nQ 45.0625 54.296875 48.78125 52.59375 \nz\n\" id=\"DejaVuSans-99\"/>\n       <path d=\"M 9.078125 75.984375 \nL 18.109375 75.984375 \nL 18.109375 31.109375 \nL 44.921875 54.6875 \nL 56.390625 54.6875 \nL 27.390625 29.109375 \nL 57.625 0 \nL 45.90625 0 \nL 18.109375 26.703125 \nL 18.109375 0 \nL 9.078125 0 \nz\n\" id=\"DejaVuSans-107\"/>\n       <path d=\"M 9.421875 54.6875 \nL 18.40625 54.6875 \nL 18.40625 -0.984375 \nQ 18.40625 -11.421875 14.421875 -16.109375 \nQ 10.453125 -20.796875 1.609375 -20.796875 \nL -1.8125 -20.796875 \nL -1.8125 -13.1875 \nL 0.59375 -13.1875 \nQ 5.71875 -13.1875 7.5625 -10.8125 \nQ 9.421875 -8.453125 9.421875 -0.984375 \nz\nM 9.421875 75.984375 \nL 18.40625 75.984375 \nL 18.40625 64.59375 \nL 9.421875 64.59375 \nz\n\" id=\"DejaVuSans-106\"/>\n       <path d=\"M 46 62.703125 \nL 46 35.5 \nL 73.1875 35.5 \nL 73.1875 27.203125 \nL 46 27.203125 \nL 46 0 \nL 37.796875 0 \nL 37.796875 27.203125 \nL 10.59375 27.203125 \nL 10.59375 35.5 \nL 37.796875 35.5 \nL 37.796875 62.703125 \nz\n\" id=\"DejaVuSans-43\"/>\n       <path d=\"M 53.71875 31.203125 \nL 47.609375 0 \nL 38.625 0 \nL 40.28125 8.296875 \nQ 36.328125 3.421875 31.265625 1 \nQ 26.21875 -1.421875 20.015625 -1.421875 \nQ 13.03125 -1.421875 8.5625 2.84375 \nQ 4.109375 7.125 4.109375 13.8125 \nQ 4.109375 23.390625 11.75 28.953125 \nQ 19.390625 34.515625 32.8125 34.515625 \nL 45.3125 34.515625 \nL 45.796875 36.921875 \nQ 45.90625 37.3125 45.953125 37.765625 \nQ 46 38.234375 46 39.203125 \nQ 46 43.5625 42.453125 45.96875 \nQ 38.921875 48.390625 32.515625 48.390625 \nQ 28.125 48.390625 23.5 47.265625 \nQ 18.890625 46.140625 14.015625 43.890625 \nL 15.578125 52.203125 \nQ 20.65625 54.109375 25.515625 55.046875 \nQ 30.375 56 34.90625 56 \nQ 44.578125 56 49.625 51.796875 \nQ 54.6875 47.609375 54.6875 39.59375 \nQ 54.6875 37.984375 54.4375 35.8125 \nQ 54.203125 33.640625 53.71875 31.203125 \nz\nM 44 27.484375 \nL 35.015625 27.484375 \nQ 23.96875 27.484375 18.671875 24.53125 \nQ 13.375 21.578125 13.375 15.375 \nQ 13.375 11.078125 16.078125 8.640625 \nQ 18.796875 6.203125 23.578125 6.203125 \nQ 30.90625 6.203125 36.375 11.453125 \nQ 41.84375 16.703125 43.609375 25.484375 \nz\n\" id=\"DejaVuSans-Oblique-97\"/>\n       <path d=\"M 52.703125 64.296875 \nL 18.09375 -27.90625 \nL 9.09375 -27.90625 \nL 43.203125 64.296875 \nL 9.09375 156.59375 \nL 18.09375 156.59375 \nz\n\" id=\"STIXSizeTwoSym-Regular-10217\"/>\n      </defs>\n      <use transform=\"translate(0 -26.71875)scale(0.786644)\" xlink:href=\"#STIXSizeTwoSym-Regular-10216\"/>\n      <use transform=\"translate(48.904739 0.252969)\" xlink:href=\"#DejaVuSans-97\"/>\n      <use transform=\"translate(124.778763 45.335781)scale(0.7)\" xlink:href=\"#DejaVuSans-8224\"/>\n      <use transform=\"translate(111.141068 -27.090781)scale(0.7)\" xlink:href=\"#DejaVuSans-102\"/>\n      <use transform=\"translate(135.784622 -27.090781)scale(0.7)\" xlink:href=\"#DejaVuSans-111\"/>\n      <use transform=\"translate(178.611771 -27.090781)scale(0.7)\" xlink:href=\"#DejaVuSans-99\"/>\n      <use transform=\"translate(217.098099 -27.090781)scale(0.7)\" xlink:href=\"#DejaVuSans-107\"/>\n      <use transform=\"translate(258.30513 -38.575156)scale(0.49)\" xlink:href=\"#DejaVuSans-106\"/>\n      <use transform=\"translate(271.9189 -38.575156)scale(0.49)\" xlink:href=\"#DejaVuSans-99\"/>\n      <use transform=\"translate(298.859329 -38.575156)scale(0.49)\" xlink:href=\"#DejaVuSans-49\"/>\n      <use transform=\"translate(354.165482 0.252969)\" xlink:href=\"#DejaVuSans-43\"/>\n      <use transform=\"translate(457.436966 0.252969)\" xlink:href=\"#DejaVuSans-Oblique-97\"/>\n      <use transform=\"translate(518.716263 -16.153281)scale(0.7)\" xlink:href=\"#DejaVuSans-102\"/>\n      <use transform=\"translate(543.359818 -16.153281)scale(0.7)\" xlink:href=\"#DejaVuSans-111\"/>\n      <use transform=\"translate(586.186966 -16.153281)scale(0.7)\" xlink:href=\"#DejaVuSans-99\"/>\n      <use transform=\"translate(624.673294 -16.153281)scale(0.7)\" xlink:href=\"#DejaVuSans-107\"/>\n      <use transform=\"translate(665.880325 -27.637656)scale(0.49)\" xlink:href=\"#DejaVuSans-106\"/>\n      <use transform=\"translate(679.494095 -27.637656)scale(0.49)\" xlink:href=\"#DejaVuSans-99\"/>\n      <use transform=\"translate(706.434525 -27.637656)scale(0.49)\" xlink:href=\"#DejaVuSans-49\"/>\n      <use transform=\"translate(742.258255 -26.71875)scale(0.786644)\" xlink:href=\"#STIXSizeTwoSym-Regular-10217\"/>\n     </g>\n    </g>\n    <g id=\"line2d_17\">\n     <path d=\"M 480.282813 233.89 \nL 500.282813 233.89 \n\" style=\"fill:none;stroke:#ff7f0e;stroke-linecap:square;stroke-width:1.5;\"/>\n    </g>\n    <g id=\"line2d_18\"/>\n    <g id=\"text_15\">\n     <!-- $\\left\\langle {\\rm {\\Pi_{{\\rm e}}^{{{\\rm tls}}_{{\\rm jc1}}}}} - {\\Pi_{{\\rm g}}^{{{\\rm tls}}_{{\\rm jc1}}}} \\right\\rangle$ -->\n     <g transform=\"translate(508.282813 237.39)scale(0.1 -0.1)\">\n      <defs>\n       <path d=\"M 65.375 72.90625 \nL 65.375 0 \nL 55.515625 0 \nL 55.515625 64.59375 \nL 19.671875 64.59375 \nL 19.671875 0 \nL 9.8125 0 \nL 9.8125 72.90625 \nz\n\" id=\"DejaVuSans-928\"/>\n       <path d=\"M 9.421875 75.984375 \nL 18.40625 75.984375 \nL 18.40625 0 \nL 9.421875 0 \nz\n\" id=\"DejaVuSans-108\"/>\n       <path d=\"M 44.28125 53.078125 \nL 44.28125 44.578125 \nQ 40.484375 46.53125 36.375 47.5 \nQ 32.28125 48.484375 27.875 48.484375 \nQ 21.1875 48.484375 17.84375 46.4375 \nQ 14.5 44.390625 14.5 40.28125 \nQ 14.5 37.15625 16.890625 35.375 \nQ 19.28125 33.59375 26.515625 31.984375 \nL 29.59375 31.296875 \nQ 39.15625 29.25 43.1875 25.515625 \nQ 47.21875 21.78125 47.21875 15.09375 \nQ 47.21875 7.46875 41.1875 3.015625 \nQ 35.15625 -1.421875 24.609375 -1.421875 \nQ 20.21875 -1.421875 15.453125 -0.5625 \nQ 10.6875 0.296875 5.421875 2 \nL 5.421875 11.28125 \nQ 10.40625 8.6875 15.234375 7.390625 \nQ 20.0625 6.109375 24.8125 6.109375 \nQ 31.15625 6.109375 34.5625 8.28125 \nQ 37.984375 10.453125 37.984375 14.40625 \nQ 37.984375 18.0625 35.515625 20.015625 \nQ 33.0625 21.96875 24.703125 23.78125 \nL 21.578125 24.515625 \nQ 13.234375 26.265625 9.515625 29.90625 \nQ 5.8125 33.546875 5.8125 39.890625 \nQ 5.8125 47.609375 11.28125 51.796875 \nQ 16.75 56 26.8125 56 \nQ 31.78125 56 36.171875 55.265625 \nQ 40.578125 54.546875 44.28125 53.078125 \nz\n\" id=\"DejaVuSans-115\"/>\n       <path d=\"M 45.40625 27.984375 \nQ 45.40625 37.75 41.375 43.109375 \nQ 37.359375 48.484375 30.078125 48.484375 \nQ 22.859375 48.484375 18.828125 43.109375 \nQ 14.796875 37.75 14.796875 27.984375 \nQ 14.796875 18.265625 18.828125 12.890625 \nQ 22.859375 7.515625 30.078125 7.515625 \nQ 37.359375 7.515625 41.375 12.890625 \nQ 45.40625 18.265625 45.40625 27.984375 \nz\nM 54.390625 6.78125 \nQ 54.390625 -7.171875 48.1875 -13.984375 \nQ 42 -20.796875 29.203125 -20.796875 \nQ 24.46875 -20.796875 20.265625 -20.09375 \nQ 16.0625 -19.390625 12.109375 -17.921875 \nL 12.109375 -9.1875 \nQ 16.0625 -11.328125 19.921875 -12.34375 \nQ 23.78125 -13.375 27.78125 -13.375 \nQ 36.625 -13.375 41.015625 -8.765625 \nQ 45.40625 -4.15625 45.40625 5.171875 \nL 45.40625 9.625 \nQ 42.625 4.78125 38.28125 2.390625 \nQ 33.9375 0 27.875 0 \nQ 17.828125 0 11.671875 7.65625 \nQ 5.515625 15.328125 5.515625 27.984375 \nQ 5.515625 40.671875 11.671875 48.328125 \nQ 17.828125 56 27.875 56 \nQ 33.9375 56 38.28125 53.609375 \nQ 42.625 51.21875 45.40625 46.390625 \nL 45.40625 54.6875 \nL 54.390625 54.6875 \nz\n\" id=\"DejaVuSans-103\"/>\n      </defs>\n      <use transform=\"translate(0 -19.918594)scale(0.764887)\" xlink:href=\"#STIXSizeTwoSym-Regular-10216\"/>\n      <use transform=\"translate(47.582993 0.779844)\" xlink:href=\"#DejaVuSans-928\"/>\n      <use transform=\"translate(123.735336 46.810938)scale(0.7)\" xlink:href=\"#DejaVuSans-116\"/>\n      <use transform=\"translate(151.181625 46.810938)scale(0.7)\" xlink:href=\"#DejaVuSans-108\"/>\n      <use transform=\"translate(170.629868 46.810938)scale(0.7)\" xlink:href=\"#DejaVuSans-115\"/>\n      <use transform=\"translate(207.769516 35.326562)scale(0.49)\" xlink:href=\"#DejaVuSans-106\"/>\n      <use transform=\"translate(221.383286 35.326562)scale(0.49)\" xlink:href=\"#DejaVuSans-99\"/>\n      <use transform=\"translate(248.323715 35.326562)scale(0.49)\" xlink:href=\"#DejaVuSans-49\"/>\n      <use transform=\"translate(123.735336 -26.563906)scale(0.7)\" xlink:href=\"#DejaVuSans-101\"/>\n      <use transform=\"translate(303.629868 0.779844)\" xlink:href=\"#DejaVuSans-8722\"/>\n      <use transform=\"translate(406.901352 0.779844)\" xlink:href=\"#DejaVuSans-928\"/>\n      <use transform=\"translate(483.053696 46.810938)scale(0.7)\" xlink:href=\"#DejaVuSans-116\"/>\n      <use transform=\"translate(510.499985 46.810938)scale(0.7)\" xlink:href=\"#DejaVuSans-108\"/>\n      <use transform=\"translate(529.948227 46.810938)scale(0.7)\" xlink:href=\"#DejaVuSans-115\"/>\n      <use transform=\"translate(567.087875 35.326562)scale(0.49)\" xlink:href=\"#DejaVuSans-106\"/>\n      <use transform=\"translate(580.701645 35.326562)scale(0.49)\" xlink:href=\"#DejaVuSans-99\"/>\n      <use transform=\"translate(607.642075 35.326562)scale(0.49)\" xlink:href=\"#DejaVuSans-49\"/>\n      <use transform=\"translate(483.053696 -26.563906)scale(0.7)\" xlink:href=\"#DejaVuSans-103\"/>\n      <use transform=\"translate(643.465805 -19.918594)scale(0.764887)\" xlink:href=\"#STIXSizeTwoSym-Regular-10217\"/>\n     </g>\n    </g>\n   </g>\n  </g>\n </g>\n <defs>\n  <clipPath id=\"p4611e75b37\">\n   <rect height=\"434.88\" width=\"558\" x=\"38.482813\" y=\"7.2\"/>\n  </clipPath>\n </defs>\n</svg>\n",
      "image/png": "[encoded data removed]"
     },
     "metadata": {
      "needs_background": "light"
     }
    }
   ],
   "source": [
    "plt.figure(figsize = (10, 8))\n",
    "plt.plot(times, np.asarray(data.expect).T)\n",
    "plt.legend([r\"$\\left\\langle {} \\right\\rangle$\".format(o.tex()) for o in obs])\n",
    "plt.xlabel('time $t$')"
   ]
  },
  {
   "cell_type": "code",
   "execution_count": null,
   "metadata": {},
   "outputs": [],
   "source": []
  }
 ]
}