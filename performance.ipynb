{
 "metadata": {
  "language_info": {
   "codemirror_mode": {
    "name": "ipython",
    "version": 3
   },
   "file_extension": ".py",
   "mimetype": "text/x-python",
   "name": "python",
   "nbconvert_exporter": "python",
   "pygments_lexer": "ipython3",
   "version": "3.8.5-final"
  },
  "orig_nbformat": 2,
  "kernelspec": {
   "name": "python3",
   "display_name": "Python 3",
   "language": "python"
  }
 },
 "nbformat": 4,
 "nbformat_minor": 2,
 "cells": [
  {
   "cell_type": "code",
   "execution_count": 1,
   "metadata": {},
   "outputs": [
    {
     "output_type": "error",
     "ename": "SyntaxError",
     "evalue": "invalid syntax (PhotonTransmission.py, line 10)",
     "traceback": [
      "Traceback \u001b[0;36m(most recent call last)\u001b[0m:\n",
      "  File \u001b[1;32m\"/home/melmatt7/.local/lib/python3.8/site-packages/IPython/core/interactiveshell.py\"\u001b[0m, line \u001b[1;32m3418\u001b[0m, in \u001b[1;35mrun_code\u001b[0m\n    exec(code_obj, self.user_global_ns, self.user_ns)\n",
      "\u001b[0;36m  File \u001b[0;32m\"<ipython-input-1-6e5dbb0c05f2>\"\u001b[0;36m, line \u001b[0;32m3\u001b[0;36m, in \u001b[0;35m<module>\u001b[0;36m\u001b[0m\n\u001b[0;31m    from PhotonTransmission import PhotonTransmission\u001b[0m\n",
      "\u001b[0;36m  File \u001b[0;32m\"/mnt/m/UBC/PHYS449/quantum_cavity_sim/PhotonTransmission.py\"\u001b[0;36m, line \u001b[0;32m10\u001b[0m\n\u001b[0;31m    from utils/genJ import genJ\u001b[0m\n\u001b[0m              ^\u001b[0m\n\u001b[0;31mSyntaxError\u001b[0m\u001b[0;31m:\u001b[0m invalid syntax\n"
     ]
    }
   ],
   "source": [
    "# First Photon Subspace, number of emitters\n",
    "\n",
    "from PhotonTransmission import PhotonTransmission\n",
    "import matplotlib.pyplot as plt\n",
    "import numpy as np\n",
    "import time\n",
    "\n",
    "plot_params = {}\n",
    "sim_params = {}\n",
    "\n",
    "plot_params['s'] = 0.2\n",
    "plot_params['lim1'] = -80\n",
    "plot_params['lim2'] = 80\n",
    "plot_params['wnum'] = 5000\n",
    "plot_params['time_val'] = 0\n",
    "\n",
    "sim_params['k']  = 43    # cavity linewidth (4.3 - Q~100,000, 43 - Q~10,000)\n",
    "sim_params['k1'] = sim_params['k']/2\n",
    "sim_params['k2'] = sim_params['k']/2\n",
    "sim_params['gnd'] = 1\n",
    "sim_params['g'] = 0.32  # rabi frequency\n",
    "sim_params['gamma']  = 0.043 # emitter linewidth\n",
    "sim_params['Gc'] = 0     # additional loss channel\n",
    "sim_params['wc'] = 0     # cavity detuning\n",
    "sim_params['we'] = 0     # emitter detuning\n",
    "sim_params['J']  = 0     # dipole-dipole coupling  \n",
    "\n",
    "\n",
    "\n",
    "\n",
    "n_list = [1, 10, 100, 1000]\n",
    "times = [0, 0, 0, 0]\n",
    "for i in range(len(n_list)):\n",
    "    sim_params['N']  = n_list[i]\n",
    "    jvec = np.zeros(int((sim_params['N']-1)*sim_params['N']/2))   \n",
    "    sim_params['jvec']  = jvec      \n",
    "    sim_params['We']    = sim_params['we']*np.ones((1,sim_params['N']))\n",
    "    current_time = time.time()\n",
    "    pt1 = PhotonTransmission(plot_params, sim_params)\n",
    "    x, y1, y2 = pt1.calc_first_subspace()\n",
    "    finish_time = time.time()\n",
    "    times[i] = finish_time-current_time\n",
    "\n",
    "plt.plot(n_list, times)"
   ]
  }
 ]
}