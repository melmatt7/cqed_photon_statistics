{
 "metadata": {
  "language_info": {
   "codemirror_mode": {
    "name": "ipython",
    "version": 3
   },
   "file_extension": ".py",
   "mimetype": "text/x-python",
   "name": "python",
   "nbconvert_exporter": "python",
   "pygments_lexer": "ipython3",
   "version": "3.8.5-final"
  },
  "orig_nbformat": 2,
  "kernelspec": {
   "name": "python3",
   "display_name": "Python 3",
   "language": "python"
  }
 },
 "nbformat": 4,
 "nbformat_minor": 2,
 "cells": [
  {
   "cell_type": "code",
   "execution_count": 6,
   "metadata": {},
   "outputs": [],
   "source": [
    "import numpy as np\n",
    "import jax\n",
    "from math import comb\n",
    "import numpy.matlib as mat\n",
    "import scipy.linalg as la\n",
    "from scipy.sparse import diags\n",
    "import os\n",
    "import time \n",
    "from genJ import genJ\n",
    "import torch\n",
    "from itertools import combinations\n",
    "from genGO_vec import genGO\n",
    "def PhotonTransmission(num):\n",
    "    os.environ[\"TF_CPP_MIN_LOG_LEVEL\"] = \"0\"\n",
    "    Hefft = 0\n",
    "\n",
    "    g3fig = 0\n",
    "    g3time = 0\n",
    "\n",
    "    mu = 0\n",
    "    sigma = 0\n",
    "\n",
    "    tnum = 2\n",
    "    t_end = 20\n",
    "\n",
    "    #plotting parameters\n",
    "    time_val = 0\n",
    "    s = 0.2\n",
    "    lim1 = -80\n",
    "    lim2 = 80\n",
    "    wnum = 5000\n",
    "\n",
    "    minval = 6.66\n",
    "    # time = 0\n",
    "\n",
    "    n = [num]\n",
    "\n",
    "    k = 43      # cavity linewidth (4.3 - Q~100,000, 43 - Q~10,000) \n",
    "    k1 = k/2\n",
    "    k2 = k/2\n",
    "    go = 0.32  #rabi frequency\n",
    "    g = 0.043   # emitter linewidth\n",
    "    Gc = 0      # additional loss channel\n",
    "    wc = 0      # cavity detuning\n",
    "    we = 0      # emitter detuning\n",
    "    J = 0       # dipole-dipole coupling\n",
    "    w = np.linspace(lim1, lim2, num=wnum)\n",
    "\n",
    "    for N in n:\n",
    "        jvec = J*torch.ones(int(N*(N-1)/2))\n",
    "\n",
    "        Go = go*torch.ones(N)\n",
    "        G = g*torch.ones(N)\n",
    "        K = k*torch.ones(N)\n",
    "        We = we*torch.ones(N)\n",
    "        \n",
    "\n",
    "        # values used to dimension the higher excitation hamiltonians\n",
    "        nck0 = comb(N, 0)\n",
    "        nck1 = comb(N, 1)\n",
    "\n",
    "        try:\n",
    "            nck2 = comb(N,2)\n",
    "        except:\n",
    "            nck2 = 0\n",
    "\n",
    "        try:\n",
    "            nck3 = comb(N,3)\n",
    "        except:\n",
    "            nck3 = 0\n",
    "\n",
    "        # creation/annihilation operators\n",
    "        gnd = 1\n",
    "        a1 = torch.cat((torch.tensor([1]),torch.zeros(N, dtype=torch.cfloat)))\n",
    "        Heff1=torch.zeros(N+1,N+1, dtype=torch.cfloat)\n",
    "\n",
    "        Heff1[0,0]= wc - 1j*k/2\n",
    "\n",
    "        if N > 0:\n",
    "\n",
    "            Heff1[0,1:N+1] = Go\n",
    "            Heff1[1:N+1,0] = Go\n",
    "            Heff1[1:N+1,1:N+1] += (np.diag(We)-1j*np.diag(G)/2)\n",
    "\n",
    "        J=genJ(jvec)\n",
    "        Heff1[1:nck0+nck1+1,1:nck0+nck1+1] += J\n",
    "        lambda1, phi1 = la.eig(Heff1)\n",
    "        lambda1 = torch.from_numpy(lambda1)\n",
    "        phi1 = torch.from_numpy(phi1)\n",
    "        phi1v = la.inv(phi1)\n",
    "        phi1v = torch.from_numpy(phi1v)\n",
    "        \n",
    "        a2 = torch.hstack((torch.eye(N+1, dtype=torch.cfloat), torch.zeros((N+1, 1)).repeat(1,nck2)))\n",
    "        a2[1] = a2[1]*np.sqrt(2)\n",
    "\n",
    "        # # a3 = np.zeros((nck0+nck1+nck2,nck0+nck1+nck2+nck3))\n",
    "        # # a3[0,0] = np.sqrt(3)\n",
    "        # # a3[1:(nck1+nck0),1:(nck1+nck0)] = np.eye(nck1)*(np.sqrt(2))\n",
    "        # # a3[nck0+nck1:nck0+nck1+nck2,nck0+nck1:nck0+nck1+nck2] = np.eye(nck2)\n",
    "\n",
    "        # ## Zeroth excitation subspace\n",
    "        # Heff0=0\n",
    "\n",
    "        # ## First Excitation Subspace\n",
    "        # Heff1=torch.zeros(N+1,N+1, dtype=torch.cfloat)\n",
    "        # # cavity loss\n",
    "        # Heff1[0,0]= wc - 1j*k/2 #+1iw comes from the diagonal contribution later\n",
    "        # # jax.ops.index_update(Heff1, jax.ops.index[0,0], wc - 1j*k/2)\n",
    "        M = int(1+N*(N+1)/2)\n",
    "        Heff2=torch.zeros(M,M, dtype=torch.cfloat)\n",
    "        Heff2[0,0]= 2*(wc - 1j*k/2)\n",
    "        Heff2[0,1:N+1] = Go*np.sqrt(2)\n",
    "        Heff2[1:N+1,0] = Go*np.sqrt(2)\n",
    "\n",
    "        if N > 0:\n",
    "            # spontaneous emission\n",
    "            Heff2[1:N+1,1:N+1] = (wc-1j*k/2+(we-1j*g/2))*torch.eye(N)\n",
    "            comb_vec = torch.tensor([[a[0] + a[1]] for a in combinations((we-1j*g/2)*torch.ones((N,1)),2)])\n",
    "            Heff2[N+1:,N+1:] = torch.eye(comb_vec.size(0), dtype=torch.cfloat)*comb_vec\n",
    "            # jax.ops.index_add(Heff1, jax.ops.index[1:N+2,1:N+2], (np.diag(We)-1j*np.diag(G)/2))\n",
    "\n",
    "        J=genJ(jvec)\n",
    "        Heff2[nck0:nck0+nck1,nck0:nck0+nck1] += J\n",
    "        J2 = torch.zeros(comb(N,2),comb(N,2))\n",
    "        Heff2[nck0+nck1:nck0+nck1+nck2,nck0+nck1:nck0+nck1+nck2] += J2\n",
    "\n",
    "        GO=genGO(Go)\n",
    "        r,c=GO.shape\n",
    "        Heff2[N+1:N+2+r-1,1:2+c-1] += GO\n",
    "        Heff2[1:2+c-1,N+1:N+2+r-1] += np.transpose(GO)\n",
    "\n",
    "        lambda2, phi2 = la.eig(Heff2)\n",
    "        lambda2 = torch.from_numpy(lambda2)\n",
    "        phi2 = torch.from_numpy(phi2)\n",
    "        # # print(phi1)\n",
    "        phi2v = la.inv(phi2)\n",
    "        phi2v = torch.from_numpy(phi2v)\n",
    "        # # norm=la.norm(phi1, axis=0)\n",
    "        # # print(norm)\n",
    "\n",
    "        w_inc = (lim2-lim1)/wnum\n",
    "        t_inc = t_end/tnum\n",
    "        t = torch.zeros(wnum, dtype=torch.cfloat)\n",
    "        fw2 = torch.zeros(wnum, dtype=torch.cfloat)\n",
    "        for i in range(0,wnum):\n",
    "            w_val = lim1+(i+1)*w_inc\n",
    "            D1 = ((lambda1-w_val)**-1)*torch.eye(N+1)\n",
    "            D2 = ((lambda2-2*w_val)**-1)*torch.eye(M)\n",
    "            # print(D1)\n",
    "            # Transmission\n",
    "            # current_time = time.time()\n",
    "\n",
    "            inter3 = torch.matmul(a1,phi1)\n",
    "            # time3 = time.time()\n",
    "            # print(\"time3:\", time3-current_time)\n",
    "\n",
    "            inter2 = torch.matmul(inter3,D1)\n",
    "            # time2 = time.time()\n",
    "            # print(\"time2:\", time2-time3)\n",
    "\n",
    "            inter1 = torch.matmul(inter2,phi1v)\n",
    "            # time1 = time.time()\n",
    "            # print(\"time1:\", time1-time2)\n",
    "\n",
    "            inter0 = torch.matmul(inter1,np.transpose(a1))\n",
    "            # time0 = time.time()\n",
    "            # print(\"time0:\", time0-time1)\n",
    "            t[i] = 1j*np.transpose(gnd)*inter0*gnd\n",
    "\n",
    "            # interA = inter3 @ phi1v\n",
    "            # interB = torch.matmul(interA, a2)\n",
    "            # interC = torch.matmul(interB, phi2)\n",
    "            # interD = torch.matmul(interC, D2)\n",
    "            # interE = torch.matmul(interD, phi2v)\n",
    "            # interF = torch.matmul(interE, np.transpose(a2))\n",
    "            # interG = torch.matmul(interF, phi1)\n",
    "            # interJ = torch.matmul(interG, D1)\n",
    "            # interH = torch.matmul(interJ, phi1v)\n",
    "            # interI = torch.matmul(interH,np.transpose(a1))\n",
    "            gwl_diag = torch.diagonal((gnd*gnd)*phi1v@np.transpose(a1)@a1*phi1@D1@phi1v@np.transpose(a1)@a1*phi1@D1,0)\n",
    "            fwl_diag = torch.diagonal((gnd*gnd)*phi1v@a2@phi2@D2@phi2v@np.transpose(a2)@phi1*D1@phi1v@np.transpose(a1)@a1*phi1,0)\n",
    "            # print(gwl_diag.size())\n",
    "            exp_val = torch.exp(-1j*(lambda1-w_val)*time_val)\n",
    "            some_val = torch.ones(1,N+1) - exp_val\n",
    "            # print(some_val.size())\n",
    "            # print(np.transpose(gwl_diag).size())\n",
    "            fw2[i] = fwl_diag@exp_val + gwl_diag @ some_val.reshape(-1,1)\n",
    "        #     # jax.ops.index_update(t, jax.ops.index[i], 1j*np.transpose(gnd)*inter0*gnd)\n",
    "\n",
    "        T=k1*k2*t*np.conj(t)\n",
    "\n",
    "        tk=np.sqrt(k1*k2)*t\n",
    "        T_2port=(tk+1)*np.conj(tk+1)\n",
    "\n",
    "        g2_w=k1**2*k2**2/(T**2)*fw2*np.conj(fw2)\n",
    "        g2_w_ref=np.abs(-k1*k2*fw2+4*(tk)+2)**2/(T_2port**2)/4\n",
    "\n",
    "        return w, T, T_2port, g2_w, g2_w_ref\n"
   ]
  },
  {
   "cell_type": "code",
   "execution_count": 9,
   "metadata": {
    "tags": []
   },
   "outputs": [
    {
     "output_type": "stream",
     "name": "stdout",
     "text": [
      "46.92126703262329\n"
     ]
    }
   ],
   "source": [
    "import time\n",
    "current_time = time.time()\n",
    "\n",
    "x, y1, y2, y3, y4 = PhotonTransmission(50)\n",
    "finish_time = time.time()\n",
    "print(finish_time-current_time)"
   ]
  },
  {
   "cell_type": "code",
   "execution_count": 4,
   "metadata": {},
   "outputs": [
    {
     "output_type": "execute_result",
     "data": {
      "text/plain": [
       "(0.0, 2.0)"
      ]
     },
     "metadata": {},
     "execution_count": 4
    },
    {
     "output_type": "display_data",
     "data": {
      "text/plain": "<Figure size 432x288 with 1 Axes>",
      "image/svg+xml": "<?xml version=\"1.0\" encoding=\"utf-8\" standalone=\"no\"?>\n<!DOCTYPE svg PUBLIC \"-//W3C//DTD SVG 1.1//EN\"\n  \"http://www.w3.org/Graphics/SVG/1.1/DTD/svg11.dtd\">\n<!-- Created with matplotlib (https://matplotlib.org/) -->\n<svg height=\"252.317344pt\" version=\"1.1\" viewBox=\"0 0 378.465625 252.317344\" width=\"378.465625pt\" xmlns=\"http://www.w3.org/2000/svg\" xmlns:xlink=\"http://www.w3.org/1999/xlink\">\n <metadata>\n  <rdf:RDF xmlns:cc=\"http://creativecommons.org/ns#\" xmlns:dc=\"http://purl.org/dc/elements/1.1/\" xmlns:rdf=\"http://www.w3.org/1999/02/22-rdf-syntax-ns#\">\n   <cc:Work>\n    <dc:type rdf:resource=\"http://purl.org/dc/dcmitype/StillImage\"/>\n    <dc:date>2021-02-02T12:52:05.789349</dc:date>\n    <dc:format>image/svg+xml</dc:format>\n    <dc:creator>\n     <cc:Agent>\n      <dc:title>Matplotlib v3.3.2, https://matplotlib.org/</dc:title>\n     </cc:Agent>\n    </dc:creator>\n   </cc:Work>\n  </rdf:RDF>\n </metadata>\n <defs>\n  <style type=\"text/css\">*{stroke-linecap:butt;stroke-linejoin:round;}</style>\n </defs>\n <g id=\"figure_1\">\n  <g id=\"patch_1\">\n   <path d=\"M 0 252.317344 \nL 378.465625 252.317344 \nL 378.465625 0 \nL 0 0 \nz\n\" style=\"fill:none;\"/>\n  </g>\n  <g id=\"axes_1\">\n   <g id=\"patch_2\">\n    <path d=\"M 36.465625 228.439219 \nL 371.265625 228.439219 \nL 371.265625 10.999219 \nL 36.465625 10.999219 \nz\n\" style=\"fill:#ffffff;\"/>\n   </g>\n   <g id=\"matplotlib.axis_1\">\n    <g id=\"xtick_1\">\n     <g id=\"line2d_1\">\n      <defs>\n       <path d=\"M 0 0 \nL 0 3.5 \n\" id=\"ma58edbe0b4\" style=\"stroke:#000000;stroke-width:0.8;\"/>\n      </defs>\n      <g>\n       <use style=\"stroke:#000000;stroke-width:0.8;\" x=\"51.683807\" xlink:href=\"#ma58edbe0b4\" y=\"228.439219\"/>\n      </g>\n     </g>\n     <g id=\"text_1\">\n      <!-- −80 -->\n      <g transform=\"translate(41.131463 243.037656)scale(0.1 -0.1)\">\n       <defs>\n        <path d=\"M 10.59375 35.5 \nL 73.1875 35.5 \nL 73.1875 27.203125 \nL 10.59375 27.203125 \nz\n\" id=\"DejaVuSans-8722\"/>\n        <path d=\"M 31.78125 34.625 \nQ 24.75 34.625 20.71875 30.859375 \nQ 16.703125 27.09375 16.703125 20.515625 \nQ 16.703125 13.921875 20.71875 10.15625 \nQ 24.75 6.390625 31.78125 6.390625 \nQ 38.8125 6.390625 42.859375 10.171875 \nQ 46.921875 13.96875 46.921875 20.515625 \nQ 46.921875 27.09375 42.890625 30.859375 \nQ 38.875 34.625 31.78125 34.625 \nz\nM 21.921875 38.8125 \nQ 15.578125 40.375 12.03125 44.71875 \nQ 8.5 49.078125 8.5 55.328125 \nQ 8.5 64.0625 14.71875 69.140625 \nQ 20.953125 74.21875 31.78125 74.21875 \nQ 42.671875 74.21875 48.875 69.140625 \nQ 55.078125 64.0625 55.078125 55.328125 \nQ 55.078125 49.078125 51.53125 44.71875 \nQ 48 40.375 41.703125 38.8125 \nQ 48.828125 37.15625 52.796875 32.3125 \nQ 56.78125 27.484375 56.78125 20.515625 \nQ 56.78125 9.90625 50.3125 4.234375 \nQ 43.84375 -1.421875 31.78125 -1.421875 \nQ 19.734375 -1.421875 13.25 4.234375 \nQ 6.78125 9.90625 6.78125 20.515625 \nQ 6.78125 27.484375 10.78125 32.3125 \nQ 14.796875 37.15625 21.921875 38.8125 \nz\nM 18.3125 54.390625 \nQ 18.3125 48.734375 21.84375 45.5625 \nQ 25.390625 42.390625 31.78125 42.390625 \nQ 38.140625 42.390625 41.71875 45.5625 \nQ 45.3125 48.734375 45.3125 54.390625 \nQ 45.3125 60.0625 41.71875 63.234375 \nQ 38.140625 66.40625 31.78125 66.40625 \nQ 25.390625 66.40625 21.84375 63.234375 \nQ 18.3125 60.0625 18.3125 54.390625 \nz\n\" id=\"DejaVuSans-56\"/>\n        <path d=\"M 31.78125 66.40625 \nQ 24.171875 66.40625 20.328125 58.90625 \nQ 16.5 51.421875 16.5 36.375 \nQ 16.5 21.390625 20.328125 13.890625 \nQ 24.171875 6.390625 31.78125 6.390625 \nQ 39.453125 6.390625 43.28125 13.890625 \nQ 47.125 21.390625 47.125 36.375 \nQ 47.125 51.421875 43.28125 58.90625 \nQ 39.453125 66.40625 31.78125 66.40625 \nz\nM 31.78125 74.21875 \nQ 44.046875 74.21875 50.515625 64.515625 \nQ 56.984375 54.828125 56.984375 36.375 \nQ 56.984375 17.96875 50.515625 8.265625 \nQ 44.046875 -1.421875 31.78125 -1.421875 \nQ 19.53125 -1.421875 13.0625 8.265625 \nQ 6.59375 17.96875 6.59375 36.375 \nQ 6.59375 54.828125 13.0625 64.515625 \nQ 19.53125 74.21875 31.78125 74.21875 \nz\n\" id=\"DejaVuSans-48\"/>\n       </defs>\n       <use xlink:href=\"#DejaVuSans-8722\"/>\n       <use x=\"83.789062\" xlink:href=\"#DejaVuSans-56\"/>\n       <use x=\"147.412109\" xlink:href=\"#DejaVuSans-48\"/>\n      </g>\n     </g>\n    </g>\n    <g id=\"xtick_2\">\n     <g id=\"line2d_2\">\n      <g>\n       <use style=\"stroke:#000000;stroke-width:0.8;\" x=\"89.729261\" xlink:href=\"#ma58edbe0b4\" y=\"228.439219\"/>\n      </g>\n     </g>\n     <g id=\"text_2\">\n      <!-- −60 -->\n      <g transform=\"translate(79.176918 243.037656)scale(0.1 -0.1)\">\n       <defs>\n        <path d=\"M 33.015625 40.375 \nQ 26.375 40.375 22.484375 35.828125 \nQ 18.609375 31.296875 18.609375 23.390625 \nQ 18.609375 15.53125 22.484375 10.953125 \nQ 26.375 6.390625 33.015625 6.390625 \nQ 39.65625 6.390625 43.53125 10.953125 \nQ 47.40625 15.53125 47.40625 23.390625 \nQ 47.40625 31.296875 43.53125 35.828125 \nQ 39.65625 40.375 33.015625 40.375 \nz\nM 52.59375 71.296875 \nL 52.59375 62.3125 \nQ 48.875 64.0625 45.09375 64.984375 \nQ 41.3125 65.921875 37.59375 65.921875 \nQ 27.828125 65.921875 22.671875 59.328125 \nQ 17.53125 52.734375 16.796875 39.40625 \nQ 19.671875 43.65625 24.015625 45.921875 \nQ 28.375 48.1875 33.59375 48.1875 \nQ 44.578125 48.1875 50.953125 41.515625 \nQ 57.328125 34.859375 57.328125 23.390625 \nQ 57.328125 12.15625 50.6875 5.359375 \nQ 44.046875 -1.421875 33.015625 -1.421875 \nQ 20.359375 -1.421875 13.671875 8.265625 \nQ 6.984375 17.96875 6.984375 36.375 \nQ 6.984375 53.65625 15.1875 63.9375 \nQ 23.390625 74.21875 37.203125 74.21875 \nQ 40.921875 74.21875 44.703125 73.484375 \nQ 48.484375 72.75 52.59375 71.296875 \nz\n\" id=\"DejaVuSans-54\"/>\n       </defs>\n       <use xlink:href=\"#DejaVuSans-8722\"/>\n       <use x=\"83.789062\" xlink:href=\"#DejaVuSans-54\"/>\n       <use x=\"147.412109\" xlink:href=\"#DejaVuSans-48\"/>\n      </g>\n     </g>\n    </g>\n    <g id=\"xtick_3\">\n     <g id=\"line2d_3\">\n      <g>\n       <use style=\"stroke:#000000;stroke-width:0.8;\" x=\"127.774716\" xlink:href=\"#ma58edbe0b4\" y=\"228.439219\"/>\n      </g>\n     </g>\n     <g id=\"text_3\">\n      <!-- −40 -->\n      <g transform=\"translate(117.222372 243.037656)scale(0.1 -0.1)\">\n       <defs>\n        <path d=\"M 37.796875 64.3125 \nL 12.890625 25.390625 \nL 37.796875 25.390625 \nz\nM 35.203125 72.90625 \nL 47.609375 72.90625 \nL 47.609375 25.390625 \nL 58.015625 25.390625 \nL 58.015625 17.1875 \nL 47.609375 17.1875 \nL 47.609375 0 \nL 37.796875 0 \nL 37.796875 17.1875 \nL 4.890625 17.1875 \nL 4.890625 26.703125 \nz\n\" id=\"DejaVuSans-52\"/>\n       </defs>\n       <use xlink:href=\"#DejaVuSans-8722\"/>\n       <use x=\"83.789062\" xlink:href=\"#DejaVuSans-52\"/>\n       <use x=\"147.412109\" xlink:href=\"#DejaVuSans-48\"/>\n      </g>\n     </g>\n    </g>\n    <g id=\"xtick_4\">\n     <g id=\"line2d_4\">\n      <g>\n       <use style=\"stroke:#000000;stroke-width:0.8;\" x=\"165.82017\" xlink:href=\"#ma58edbe0b4\" y=\"228.439219\"/>\n      </g>\n     </g>\n     <g id=\"text_4\">\n      <!-- −20 -->\n      <g transform=\"translate(155.267827 243.037656)scale(0.1 -0.1)\">\n       <defs>\n        <path d=\"M 19.1875 8.296875 \nL 53.609375 8.296875 \nL 53.609375 0 \nL 7.328125 0 \nL 7.328125 8.296875 \nQ 12.9375 14.109375 22.625 23.890625 \nQ 32.328125 33.6875 34.8125 36.53125 \nQ 39.546875 41.84375 41.421875 45.53125 \nQ 43.3125 49.21875 43.3125 52.78125 \nQ 43.3125 58.59375 39.234375 62.25 \nQ 35.15625 65.921875 28.609375 65.921875 \nQ 23.96875 65.921875 18.8125 64.3125 \nQ 13.671875 62.703125 7.8125 59.421875 \nL 7.8125 69.390625 \nQ 13.765625 71.78125 18.9375 73 \nQ 24.125 74.21875 28.421875 74.21875 \nQ 39.75 74.21875 46.484375 68.546875 \nQ 53.21875 62.890625 53.21875 53.421875 \nQ 53.21875 48.921875 51.53125 44.890625 \nQ 49.859375 40.875 45.40625 35.40625 \nQ 44.1875 33.984375 37.640625 27.21875 \nQ 31.109375 20.453125 19.1875 8.296875 \nz\n\" id=\"DejaVuSans-50\"/>\n       </defs>\n       <use xlink:href=\"#DejaVuSans-8722\"/>\n       <use x=\"83.789062\" xlink:href=\"#DejaVuSans-50\"/>\n       <use x=\"147.412109\" xlink:href=\"#DejaVuSans-48\"/>\n      </g>\n     </g>\n    </g>\n    <g id=\"xtick_5\">\n     <g id=\"line2d_5\">\n      <g>\n       <use style=\"stroke:#000000;stroke-width:0.8;\" x=\"203.865625\" xlink:href=\"#ma58edbe0b4\" y=\"228.439219\"/>\n      </g>\n     </g>\n     <g id=\"text_5\">\n      <!-- 0 -->\n      <g transform=\"translate(200.684375 243.037656)scale(0.1 -0.1)\">\n       <use xlink:href=\"#DejaVuSans-48\"/>\n      </g>\n     </g>\n    </g>\n    <g id=\"xtick_6\">\n     <g id=\"line2d_6\">\n      <g>\n       <use style=\"stroke:#000000;stroke-width:0.8;\" x=\"241.91108\" xlink:href=\"#ma58edbe0b4\" y=\"228.439219\"/>\n      </g>\n     </g>\n     <g id=\"text_6\">\n      <!-- 20 -->\n      <g transform=\"translate(235.54858 243.037656)scale(0.1 -0.1)\">\n       <use xlink:href=\"#DejaVuSans-50\"/>\n       <use x=\"63.623047\" xlink:href=\"#DejaVuSans-48\"/>\n      </g>\n     </g>\n    </g>\n    <g id=\"xtick_7\">\n     <g id=\"line2d_7\">\n      <g>\n       <use style=\"stroke:#000000;stroke-width:0.8;\" x=\"279.956534\" xlink:href=\"#ma58edbe0b4\" y=\"228.439219\"/>\n      </g>\n     </g>\n     <g id=\"text_7\">\n      <!-- 40 -->\n      <g transform=\"translate(273.594034 243.037656)scale(0.1 -0.1)\">\n       <use xlink:href=\"#DejaVuSans-52\"/>\n       <use x=\"63.623047\" xlink:href=\"#DejaVuSans-48\"/>\n      </g>\n     </g>\n    </g>\n    <g id=\"xtick_8\">\n     <g id=\"line2d_8\">\n      <g>\n       <use style=\"stroke:#000000;stroke-width:0.8;\" x=\"318.001989\" xlink:href=\"#ma58edbe0b4\" y=\"228.439219\"/>\n      </g>\n     </g>\n     <g id=\"text_8\">\n      <!-- 60 -->\n      <g transform=\"translate(311.639489 243.037656)scale(0.1 -0.1)\">\n       <use xlink:href=\"#DejaVuSans-54\"/>\n       <use x=\"63.623047\" xlink:href=\"#DejaVuSans-48\"/>\n      </g>\n     </g>\n    </g>\n    <g id=\"xtick_9\">\n     <g id=\"line2d_9\">\n      <g>\n       <use style=\"stroke:#000000;stroke-width:0.8;\" x=\"356.047443\" xlink:href=\"#ma58edbe0b4\" y=\"228.439219\"/>\n      </g>\n     </g>\n     <g id=\"text_9\">\n      <!-- 80 -->\n      <g transform=\"translate(349.684943 243.037656)scale(0.1 -0.1)\">\n       <use xlink:href=\"#DejaVuSans-56\"/>\n       <use x=\"63.623047\" xlink:href=\"#DejaVuSans-48\"/>\n      </g>\n     </g>\n    </g>\n   </g>\n   <g id=\"matplotlib.axis_2\">\n    <g id=\"ytick_1\">\n     <g id=\"line2d_10\">\n      <defs>\n       <path d=\"M 0 0 \nL -3.5 0 \n\" id=\"m12868bfc94\" style=\"stroke:#000000;stroke-width:0.8;\"/>\n      </defs>\n      <g>\n       <use style=\"stroke:#000000;stroke-width:0.8;\" x=\"36.465625\" xlink:href=\"#m12868bfc94\" y=\"228.439219\"/>\n      </g>\n     </g>\n     <g id=\"text_10\">\n      <!-- 0.00 -->\n      <g transform=\"translate(7.2 232.238437)scale(0.1 -0.1)\">\n       <defs>\n        <path d=\"M 10.6875 12.40625 \nL 21 12.40625 \nL 21 0 \nL 10.6875 0 \nz\n\" id=\"DejaVuSans-46\"/>\n       </defs>\n       <use xlink:href=\"#DejaVuSans-48\"/>\n       <use x=\"63.623047\" xlink:href=\"#DejaVuSans-46\"/>\n       <use x=\"95.410156\" xlink:href=\"#DejaVuSans-48\"/>\n       <use x=\"159.033203\" xlink:href=\"#DejaVuSans-48\"/>\n      </g>\n     </g>\n    </g>\n    <g id=\"ytick_2\">\n     <g id=\"line2d_11\">\n      <g>\n       <use style=\"stroke:#000000;stroke-width:0.8;\" x=\"36.465625\" xlink:href=\"#m12868bfc94\" y=\"201.259219\"/>\n      </g>\n     </g>\n     <g id=\"text_11\">\n      <!-- 0.25 -->\n      <g transform=\"translate(7.2 205.058437)scale(0.1 -0.1)\">\n       <defs>\n        <path d=\"M 10.796875 72.90625 \nL 49.515625 72.90625 \nL 49.515625 64.59375 \nL 19.828125 64.59375 \nL 19.828125 46.734375 \nQ 21.96875 47.46875 24.109375 47.828125 \nQ 26.265625 48.1875 28.421875 48.1875 \nQ 40.625 48.1875 47.75 41.5 \nQ 54.890625 34.8125 54.890625 23.390625 \nQ 54.890625 11.625 47.5625 5.09375 \nQ 40.234375 -1.421875 26.90625 -1.421875 \nQ 22.3125 -1.421875 17.546875 -0.640625 \nQ 12.796875 0.140625 7.71875 1.703125 \nL 7.71875 11.625 \nQ 12.109375 9.234375 16.796875 8.0625 \nQ 21.484375 6.890625 26.703125 6.890625 \nQ 35.15625 6.890625 40.078125 11.328125 \nQ 45.015625 15.765625 45.015625 23.390625 \nQ 45.015625 31 40.078125 35.4375 \nQ 35.15625 39.890625 26.703125 39.890625 \nQ 22.75 39.890625 18.8125 39.015625 \nQ 14.890625 38.140625 10.796875 36.28125 \nz\n\" id=\"DejaVuSans-53\"/>\n       </defs>\n       <use xlink:href=\"#DejaVuSans-48\"/>\n       <use x=\"63.623047\" xlink:href=\"#DejaVuSans-46\"/>\n       <use x=\"95.410156\" xlink:href=\"#DejaVuSans-50\"/>\n       <use x=\"159.033203\" xlink:href=\"#DejaVuSans-53\"/>\n      </g>\n     </g>\n    </g>\n    <g id=\"ytick_3\">\n     <g id=\"line2d_12\">\n      <g>\n       <use style=\"stroke:#000000;stroke-width:0.8;\" x=\"36.465625\" xlink:href=\"#m12868bfc94\" y=\"174.079219\"/>\n      </g>\n     </g>\n     <g id=\"text_12\">\n      <!-- 0.50 -->\n      <g transform=\"translate(7.2 177.878437)scale(0.1 -0.1)\">\n       <use xlink:href=\"#DejaVuSans-48\"/>\n       <use x=\"63.623047\" xlink:href=\"#DejaVuSans-46\"/>\n       <use x=\"95.410156\" xlink:href=\"#DejaVuSans-53\"/>\n       <use x=\"159.033203\" xlink:href=\"#DejaVuSans-48\"/>\n      </g>\n     </g>\n    </g>\n    <g id=\"ytick_4\">\n     <g id=\"line2d_13\">\n      <g>\n       <use style=\"stroke:#000000;stroke-width:0.8;\" x=\"36.465625\" xlink:href=\"#m12868bfc94\" y=\"146.899219\"/>\n      </g>\n     </g>\n     <g id=\"text_13\">\n      <!-- 0.75 -->\n      <g transform=\"translate(7.2 150.698437)scale(0.1 -0.1)\">\n       <defs>\n        <path d=\"M 8.203125 72.90625 \nL 55.078125 72.90625 \nL 55.078125 68.703125 \nL 28.609375 0 \nL 18.3125 0 \nL 43.21875 64.59375 \nL 8.203125 64.59375 \nz\n\" id=\"DejaVuSans-55\"/>\n       </defs>\n       <use xlink:href=\"#DejaVuSans-48\"/>\n       <use x=\"63.623047\" xlink:href=\"#DejaVuSans-46\"/>\n       <use x=\"95.410156\" xlink:href=\"#DejaVuSans-55\"/>\n       <use x=\"159.033203\" xlink:href=\"#DejaVuSans-53\"/>\n      </g>\n     </g>\n    </g>\n    <g id=\"ytick_5\">\n     <g id=\"line2d_14\">\n      <g>\n       <use style=\"stroke:#000000;stroke-width:0.8;\" x=\"36.465625\" xlink:href=\"#m12868bfc94\" y=\"119.719219\"/>\n      </g>\n     </g>\n     <g id=\"text_14\">\n      <!-- 1.00 -->\n      <g transform=\"translate(7.2 123.518437)scale(0.1 -0.1)\">\n       <defs>\n        <path d=\"M 12.40625 8.296875 \nL 28.515625 8.296875 \nL 28.515625 63.921875 \nL 10.984375 60.40625 \nL 10.984375 69.390625 \nL 28.421875 72.90625 \nL 38.28125 72.90625 \nL 38.28125 8.296875 \nL 54.390625 8.296875 \nL 54.390625 0 \nL 12.40625 0 \nz\n\" id=\"DejaVuSans-49\"/>\n       </defs>\n       <use xlink:href=\"#DejaVuSans-49\"/>\n       <use x=\"63.623047\" xlink:href=\"#DejaVuSans-46\"/>\n       <use x=\"95.410156\" xlink:href=\"#DejaVuSans-48\"/>\n       <use x=\"159.033203\" xlink:href=\"#DejaVuSans-48\"/>\n      </g>\n     </g>\n    </g>\n    <g id=\"ytick_6\">\n     <g id=\"line2d_15\">\n      <g>\n       <use style=\"stroke:#000000;stroke-width:0.8;\" x=\"36.465625\" xlink:href=\"#m12868bfc94\" y=\"92.539219\"/>\n      </g>\n     </g>\n     <g id=\"text_15\">\n      <!-- 1.25 -->\n      <g transform=\"translate(7.2 96.338437)scale(0.1 -0.1)\">\n       <use xlink:href=\"#DejaVuSans-49\"/>\n       <use x=\"63.623047\" xlink:href=\"#DejaVuSans-46\"/>\n       <use x=\"95.410156\" xlink:href=\"#DejaVuSans-50\"/>\n       <use x=\"159.033203\" xlink:href=\"#DejaVuSans-53\"/>\n      </g>\n     </g>\n    </g>\n    <g id=\"ytick_7\">\n     <g id=\"line2d_16\">\n      <g>\n       <use style=\"stroke:#000000;stroke-width:0.8;\" x=\"36.465625\" xlink:href=\"#m12868bfc94\" y=\"65.359219\"/>\n      </g>\n     </g>\n     <g id=\"text_16\">\n      <!-- 1.50 -->\n      <g transform=\"translate(7.2 69.158437)scale(0.1 -0.1)\">\n       <use xlink:href=\"#DejaVuSans-49\"/>\n       <use x=\"63.623047\" xlink:href=\"#DejaVuSans-46\"/>\n       <use x=\"95.410156\" xlink:href=\"#DejaVuSans-53\"/>\n       <use x=\"159.033203\" xlink:href=\"#DejaVuSans-48\"/>\n      </g>\n     </g>\n    </g>\n    <g id=\"ytick_8\">\n     <g id=\"line2d_17\">\n      <g>\n       <use style=\"stroke:#000000;stroke-width:0.8;\" x=\"36.465625\" xlink:href=\"#m12868bfc94\" y=\"38.179219\"/>\n      </g>\n     </g>\n     <g id=\"text_17\">\n      <!-- 1.75 -->\n      <g transform=\"translate(7.2 41.978437)scale(0.1 -0.1)\">\n       <use xlink:href=\"#DejaVuSans-49\"/>\n       <use x=\"63.623047\" xlink:href=\"#DejaVuSans-46\"/>\n       <use x=\"95.410156\" xlink:href=\"#DejaVuSans-55\"/>\n       <use x=\"159.033203\" xlink:href=\"#DejaVuSans-53\"/>\n      </g>\n     </g>\n    </g>\n    <g id=\"ytick_9\">\n     <g id=\"line2d_18\">\n      <g>\n       <use style=\"stroke:#000000;stroke-width:0.8;\" x=\"36.465625\" xlink:href=\"#m12868bfc94\" y=\"10.999219\"/>\n      </g>\n     </g>\n     <g id=\"text_18\">\n      <!-- 2.00 -->\n      <g transform=\"translate(7.2 14.798437)scale(0.1 -0.1)\">\n       <use xlink:href=\"#DejaVuSans-50\"/>\n       <use x=\"63.623047\" xlink:href=\"#DejaVuSans-46\"/>\n       <use x=\"95.410156\" xlink:href=\"#DejaVuSans-48\"/>\n       <use x=\"159.033203\" xlink:href=\"#DejaVuSans-48\"/>\n      </g>\n     </g>\n    </g>\n   </g>\n   <g id=\"line2d_19\">\n    <path clip-path=\"url(#p5716a680be)\" d=\"M 51.683807 221.108044 \nL 62.947514 219.983354 \nL 72.810869 218.779193 \nL 81.51741 217.497746 \nL 89.310678 216.13151 \nL 96.373327 214.671228 \nL 102.766241 213.126364 \nL 108.611192 211.489563 \nL 114.029949 209.743154 \nL 119.022511 207.903359 \nL 123.710649 205.939543 \nL 128.094362 203.862805 \nL 132.234535 201.655696 \nL 136.131169 199.329452 \nL 139.906033 196.815151 \nL 143.498242 194.154915 \nL 146.968682 191.308868 \nL 150.378237 188.221366 \nL 153.666021 184.945626 \nL 156.953806 181.353891 \nL 160.241591 177.426662 \nL 163.529376 173.15037 \nL 166.938931 168.34308 \nL 170.53114 162.882318 \nL 174.488659 156.450845 \nL 179.785645 147.379377 \nL 186.54387 135.856035 \nL 189.649 131.012118 \nL 192.084396 127.604373 \nL 194.154483 125.067692 \nL 195.98103 123.160473 \nL 197.624922 121.748745 \nL 199.08616 120.767984 \nL 200.364743 120.159368 \nL 201.338901 119.914753 \nL 202.008635 119.962966 \nL 202.43483 120.228564 \nL 202.739254 120.719466 \nL 202.982794 121.586066 \nL 203.165449 122.943347 \nL 203.348103 125.983813 \nL 203.530758 134.82187 \nL 203.652528 153.033107 \nL 203.835183 217.922526 \nL 203.896067 200.570754 \nL 204.139607 134.82187 \nL 204.383147 124.651766 \nL 204.626686 121.937818 \nL 204.931111 120.719466 \nL 205.29642 120.169795 \nL 205.722615 119.94543 \nL 206.331464 119.914753 \nL 207.183852 120.116184 \nL 208.340665 120.632398 \nL 209.680133 121.477982 \nL 211.202256 122.710409 \nL 212.907033 124.395019 \nL 214.794465 126.591307 \nL 216.925437 129.428327 \nL 219.421718 133.138724 \nL 222.587733 138.272138 \nL 227.702065 147.062047 \nL 234.277635 158.270094 \nL 238.356923 164.776939 \nL 241.949133 170.103158 \nL 245.419572 174.855367 \nL 248.768242 179.068182 \nL 252.116912 182.923678 \nL 255.465581 186.439228 \nL 258.814251 189.637125 \nL 262.223806 192.59233 \nL 265.75513 195.361285 \nL 269.408224 197.943648 \nL 273.243973 200.378927 \nL 277.201492 202.628314 \nL 281.402551 204.758586 \nL 285.847149 206.760011 \nL 290.535286 208.627298 \nL 295.588733 210.398944 \nL 301.00749 212.061517 \nL 306.852441 213.622253 \nL 313.245355 215.097837 \nL 320.308004 216.495165 \nL 328.101272 217.805 \nL 336.746929 219.028129 \nL 346.427628 220.169112 \nL 356.047443 221.113512 \nL 356.047443 221.113512 \n\" style=\"fill:none;stroke:#0000ff;stroke-linecap:square;stroke-width:1.5;\"/>\n   </g>\n   <g id=\"line2d_20\">\n    <path clip-path=\"url(#p5716a680be)\" d=\"M 51.683807 127.050398 \nL 62.886629 128.168346 \nL 72.749984 129.371068 \nL 81.51741 130.660702 \nL 89.371563 132.038558 \nL 96.434211 133.500865 \nL 102.888011 135.063854 \nL 108.732962 136.705565 \nL 114.151719 138.457388 \nL 119.144281 140.303058 \nL 123.832418 142.273316 \nL 128.216131 144.35701 \nL 132.356305 146.571657 \nL 136.252939 148.905973 \nL 139.966918 151.386179 \nL 143.559127 154.05111 \nL 147.029567 156.902198 \nL 150.439122 159.995115 \nL 153.726906 163.276522 \nL 157.014691 166.874345 \nL 160.302476 170.807979 \nL 163.590261 175.090865 \nL 166.999815 179.90494 \nL 170.592025 185.372403 \nL 174.610429 191.911966 \nL 180.029185 201.20323 \nL 186.54387 212.304716 \nL 189.649 217.149937 \nL 192.084396 220.55949 \nL 194.154483 223.098946 \nL 195.98103 225.010635 \nL 197.624922 226.430228 \nL 199.147045 227.461501 \nL 200.486513 228.113871 \nL 201.582441 228.415204 \nL 202.252175 228.401858 \nL 202.617484 228.224099 \nL 202.921909 227.806825 \nL 203.165449 226.952377 \nL 203.348103 225.353959 \nL 203.530758 220.693138 \nL 203.652528 211.081925 \nL 203.835183 176.830175 \nL 203.896067 185.989427 \nL 204.139607 220.693136 \nL 204.383147 226.055146 \nL 204.626686 227.477643 \nL 204.931111 228.103016 \nL 205.29642 228.364311 \nL 205.844384 228.437362 \nL 206.696773 228.280156 \nL 207.853586 227.820291 \nL 209.193054 227.043219 \nL 210.715177 225.888407 \nL 212.359069 224.348472 \nL 214.185616 222.317892 \nL 216.255703 219.663287 \nL 218.630214 216.238152 \nL 221.55269 211.607103 \nL 225.692863 204.584709 \nL 234.886484 188.890072 \nL 238.844002 182.63628 \nL 242.436212 177.364903 \nL 245.845766 172.746886 \nL 249.194436 168.580197 \nL 252.482221 164.835228 \nL 255.830891 161.355468 \nL 259.240445 158.135954 \nL 262.710885 155.167256 \nL 266.242209 152.436985 \nL 269.895304 149.890597 \nL 273.731053 147.488938 \nL 277.749456 145.237983 \nL 281.950515 143.139825 \nL 286.395113 141.167966 \nL 291.144135 139.305195 \nL 296.258467 137.54152 \nL 301.738109 135.88946 \nL 307.704829 134.326405 \nL 314.219514 132.854372 \nL 321.343048 131.476354 \nL 329.1972 130.186065 \nL 337.964627 128.974634 \nL 347.767096 127.847517 \nL 356.047443 127.044923 \nL 356.047443 127.044923 \n\" style=\"fill:none;stroke:#ff0000;stroke-linecap:square;stroke-width:1.5;\"/>\n   </g>\n   <g id=\"line2d_21\">\n    <path clip-path=\"url(#p5716a680be)\" d=\"M 51.683807 142.248134 \nL 196.772534 142.245464 \nL 200.303858 142.087172 \nL 201.399786 141.848473 \nL 202.008635 141.492929 \nL 202.373945 141.034681 \nL 202.678369 140.274402 \nL 202.921909 139.037594 \nL 203.165449 136.190621 \nL 203.348103 130.60759 \nL 203.469873 121.115861 \nL 203.591643 92.219265 \nL 203.672653 -1 \nM 203.997712 -1 \nL 204.139607 111.237042 \nL 204.383147 133.110717 \nL 204.626686 137.944194 \nL 204.931111 140.04127 \nL 205.29642 141.034687 \nL 205.722615 141.544564 \nL 206.270579 141.84846 \nL 207.183852 142.06302 \nL 208.949515 142.199053 \nL 213.515882 142.266382 \nL 240.609665 142.25915 \nL 328.527466 142.248581 \nL 356.047443 142.248192 \nL 356.047443 142.248192 \n\" style=\"fill:none;stroke:#0000ff;stroke-linecap:square;stroke-width:1.5;\"/>\n   </g>\n   <g id=\"line2d_22\">\n    <path clip-path=\"url(#p5716a680be)\" d=\"M 51.683807 109.681078 \nL 60.329463 108.399822 \nL 68.000961 107.043681 \nL 74.880955 105.606589 \nL 81.091216 104.086201 \nL 86.692627 102.491082 \nL 91.806959 100.808494 \nL 96.495096 99.036647 \nL 100.75704 97.197264 \nL 104.775443 95.224997 \nL 108.489422 93.158455 \nL 111.959862 90.977473 \nL 115.247647 88.649054 \nL 118.352777 86.175192 \nL 121.275252 83.561241 \nL 124.015073 80.81731 \nL 126.633124 77.886463 \nL 129.129405 74.765526 \nL 131.564801 71.363982 \nL 133.878428 67.753685 \nL 136.131169 63.826259 \nL 138.323026 59.551272 \nL 140.453997 54.895522 \nL 142.524084 49.822639 \nL 144.533286 44.293044 \nL 146.481603 38.264187 \nL 148.369035 31.689852 \nL 150.195582 24.520528 \nL 151.961244 16.703857 \nL 153.726906 7.860098 \nL 155.293762 -1 \nM 252.452164 -1 \nL 254.186998 8.752735 \nL 256.013545 17.775348 \nL 257.900978 25.969751 \nL 259.78841 33.196787 \nL 261.736726 39.798495 \nL 263.745928 45.831085 \nL 265.816015 51.346035 \nL 267.946987 56.390624 \nL 270.138843 61.007831 \nL 272.391585 65.236911 \nL 274.705211 69.11339 \nL 277.140607 72.755622 \nL 279.636888 76.088553 \nL 282.254939 79.210527 \nL 284.99476 82.126288 \nL 287.85635 84.842704 \nL 290.839711 87.36807 \nL 294.005726 89.755071 \nL 297.354395 91.999365 \nL 300.946605 94.133961 \nL 304.782354 96.148661 \nL 308.861642 98.037787 \nL 313.245355 99.82262 \nL 317.994378 101.51581 \nL 323.23048 103.141243 \nL 328.892776 104.663368 \nL 335.042151 106.088562 \nL 341.86126 107.442772 \nL 349.532758 108.736573 \nL 356.047443 109.680157 \nL 356.047443 109.680157 \n\" style=\"fill:none;stroke:#ff0000;stroke-linecap:square;stroke-width:1.5;\"/>\n   </g>\n   <g id=\"patch_3\">\n    <path d=\"M 36.465625 228.439219 \nL 36.465625 10.999219 \n\" style=\"fill:none;stroke:#000000;stroke-linecap:square;stroke-linejoin:miter;stroke-width:0.8;\"/>\n   </g>\n   <g id=\"patch_4\">\n    <path d=\"M 371.265625 228.439219 \nL 371.265625 10.999219 \n\" style=\"fill:none;stroke:#000000;stroke-linecap:square;stroke-linejoin:miter;stroke-width:0.8;\"/>\n   </g>\n   <g id=\"patch_5\">\n    <path d=\"M 36.465625 228.439219 \nL 371.265625 228.439219 \n\" style=\"fill:none;stroke:#000000;stroke-linecap:square;stroke-linejoin:miter;stroke-width:0.8;\"/>\n   </g>\n   <g id=\"patch_6\">\n    <path d=\"M 36.465625 10.999219 \nL 371.265625 10.999219 \n\" style=\"fill:none;stroke:#000000;stroke-linecap:square;stroke-linejoin:miter;stroke-width:0.8;\"/>\n   </g>\n  </g>\n </g>\n <defs>\n  <clipPath id=\"p5716a680be\">\n   <rect height=\"217.44\" width=\"334.8\" x=\"36.465625\" y=\"10.999219\"/>\n  </clipPath>\n </defs>\n</svg>\n",
      "image/png": "[encoded data removed]"
     },
     "metadata": {
      "needs_background": "light"
     }
    }
   ],
   "source": [
    "import matplotlib.pyplot as plt\n",
    "plt.plot(x, y1, 'b')\n",
    "plt.plot(x, y2, 'r')\n",
    "plt.plot(x, y3, 'b')\n",
    "plt.plot(x, y4, 'r')\n",
    "axes = plt.gca()\n",
    "# axes.set_xlim([xmin,xmax])\n",
    "axes.set_ylim([0,2])\n"
   ]
  },
  {
   "cell_type": "code",
   "execution_count": 260,
   "metadata": {},
   "outputs": [
    {
     "output_type": "stream",
     "name": "stdout",
     "text": [
      "13.798386096954346\n"
     ]
    }
   ],
   "source": [
    "import time\n",
    "import numpy as np\n",
    "\n",
    "from PhotonTransmission import PhotonTransmission\n",
    "import matplotlib.pyplot as plt\n",
    "\n",
    "current_time = time.time()\n",
    "x, y1, y2 = PhotonTransmission(500)\n",
    "\n",
    "finish_time = time.time()\n",
    "print(finish_time-current_time)\n",
    "\n",
    "\n"
   ]
  },
  {
   "cell_type": "code",
   "execution_count": 31,
   "metadata": {},
   "outputs": [],
   "source": [
    "import numpy as np\n",
    "import jax\n",
    "from math import comb\n",
    "import numpy.matlib as mat\n",
    "import scipy.linalg as la\n",
    "from scipy.sparse import diags\n",
    "import os\n",
    "import time \n",
    "from genJ import genJ\n",
    "import torch\n",
    "# import matplotlib as \n",
    "\n",
    "def PhotonTransmission(num):\n",
    "    os.environ[\"TF_CPP_MIN_LOG_LEVEL\"] = \"0\"\n",
    "    Hefft = 0\n",
    "\n",
    "    g3fig = 0\n",
    "    g3time = 0\n",
    "\n",
    "    mu = 0\n",
    "    sigma = 0\n",
    "\n",
    "    tnum = 2\n",
    "    t_end = 20\n",
    "\n",
    "    #plotting parameters\n",
    "    s = 0.2\n",
    "    lim1 = -80\n",
    "    lim2 = 80\n",
    "    wnum = 5000\n",
    "\n",
    "    minval = 6.66\n",
    "    # time = 0\n",
    "\n",
    "    n = [num]\n",
    "\n",
    "    k = 43      # cavity linewidth (4.3 - Q~100,000, 43 - Q~10,000) \n",
    "    k1 = k/2\n",
    "    k2 = k/2\n",
    "    go = 0.32  #rabi frequency\n",
    "    g = 0.043   # emitter linewidth\n",
    "    Gc = 0      # additional loss channel\n",
    "    wc = 0      # cavity detuning\n",
    "    we = 0      # emitter detuning\n",
    "    J = 0       # dipole-dipole coupling\n",
    "    w = np.linspace(lim1, lim2, num=wnum)\n",
    "\n",
    "    for N in n:\n",
    "        jvec = J*torch.ones(int(N*(N-1)/2))\n",
    "\n",
    "        Go = go*torch.ones(N)\n",
    "        G = g*torch.ones(N)\n",
    "        K = k*torch.ones(N)\n",
    "        We = we*torch.ones(N)\n",
    "        \n",
    "\n",
    "        # values used to dimension the higher excitation hamiltonians\n",
    "        nck0 = comb(N, 0)\n",
    "        nck1 = comb(N, 1)\n",
    "\n",
    "        try:\n",
    "            nck2 = comb(N,2)\n",
    "        except:\n",
    "            nck2 = 0\n",
    "\n",
    "        try:\n",
    "            nck3 = comb(N,3)\n",
    "        except:\n",
    "            nck3 = 0\n",
    "\n",
    "        # creation/annihilation operators\n",
    "        gnd = 1\n",
    "        a1 = torch.cat((torch.tensor([1]),torch.zeros(N, dtype=torch.cfloat)))\n",
    "        # a2 = np.hstack((np.eye(N+1), mat.repmat(np.zeros((N+1, 1)), 1, nck2)))\n",
    "        # a2[1] = a2[1]*np.sqrt(2)\n",
    "\n",
    "        # a3 = np.zeros((nck0+nck1+nck2,nck0+nck1+nck2+nck3))\n",
    "        # a3[0,0] = np.sqrt(3)\n",
    "        # a3[1:(nck1+nck0),1:(nck1+nck0)] = np.eye(nck1)*(np.sqrt(2))\n",
    "        # a3[nck0+nck1:nck0+nck1+nck2,nck0+nck1:nck0+nck1+nck2] = np.eye(nck2)\n",
    "\n",
    "        ## Zeroth excitation subspace\n",
    "        Heff0=0\n",
    "\n",
    "        ## First Excitation Subspace\n",
    "        Heff1=torch.zeros(N+1,N+1, dtype=torch.cfloat)\n",
    "        # cavity loss\n",
    "        Heff1[0,0]= wc - 1j*k/2 #+1iw comes from the diagonal contribution later\n",
    "        # jax.ops.index_update(Heff1, jax.ops.index[0,0], wc - 1j*k/2)\n",
    "\n",
    "        if N > 0:\n",
    "            # atomic coupling\n",
    "            print(Go.size())\n",
    "            Heff1[0,1:N+1] = Go\n",
    "            # jax.ops.index_update(Heff1, jax.ops.index[0,1:N+2], Go)\n",
    "            Heff1[1:N+1,0] = Go\n",
    "            # jax.ops.index_update(Heff1, jax.ops.index[1:N+2,0], Go)\n",
    "\n",
    "            # spontaneous emission\n",
    "            Heff1[1:N+1,1:N+1] += (np.diag(We)-1j*np.diag(G)/2)\n",
    "            # jax.ops.index_add(Heff1, jax.ops.index[1:N+2,1:N+2], (np.diag(We)-1j*np.diag(G)/2))\n",
    "\n",
    "        J=genJ(jvec)\n",
    "        Heff1[1:nck0+nck1+1,1:nck0+nck1+1] += J\n",
    "        # jax.ops.index_add(Heff1, jax.ops.index[1:nck0+nck1+1,1:nck0+nck1+1], J)\n",
    "\n",
    "        # unsorted phi1\n",
    "        # print(Heff1)\n",
    "        lambda1, phi1 = la.eig(Heff1)\n",
    "        lambda1 = torch.from_numpy(lambda1)\n",
    "        phi1 = torch.from_numpy(phi1)\n",
    "        # print(phi1)\n",
    "        phi1v = la.inv(phi1)\n",
    "        phi1v = torch.from_numpy(phi1v)\n",
    "        # norm=la.norm(phi1, axis=0)\n",
    "        # print(norm)\n",
    "\n",
    "        w_inc = (lim2-lim1)/wnum\n",
    "        t_inc = t_end/tnum\n",
    "        t = torch.zeros(wnum, dtype=torch.cfloat)\n",
    "        for i in range(0,wnum):\n",
    "            w_val = lim1+(i+1)*w_inc\n",
    "            D1 = ((lambda1-w_val)**-1)*torch.eye(N+1)\n",
    "            # print(D1)\n",
    "            # Transmission\n",
    "            # current_time = time.time()\n",
    "\n",
    "            inter3 = torch.matmul(a1,phi1)\n",
    "            # time3 = time.time()\n",
    "            # print(\"time3:\", time3-current_time)\n",
    "\n",
    "            inter2 = torch.matmul(inter3,D1)\n",
    "            # time2 = time.time()\n",
    "            # print(\"time2:\", time2-time3)\n",
    "\n",
    "            inter1 = torch.matmul(inter2,phi1v)\n",
    "            # time1 = time.time()\n",
    "            # print(\"time1:\", time1-time2)\n",
    "\n",
    "            inter0 = torch.matmul(inter1,np.transpose(a1))\n",
    "            # time0 = time.time()\n",
    "            # print(\"time0:\", time0-time1)\n",
    "            t[i] = 1j*np.transpose(gnd)*inter0*gnd\n",
    "            # jax.ops.index_update(t, jax.ops.index[i], 1j*np.transpose(gnd)*inter0*gnd)\n",
    "\n",
    "        T=k1*k2*t*np.conj(t)\n",
    "\n",
    "        tk=np.sqrt(k1*k2)*t\n",
    "        T_2port=(tk+1)*np.conj(tk+1)\n",
    "\n",
    "        return w, T, T_2port\n"
   ]
  },
  {
   "cell_type": "code",
   "execution_count": 32,
   "metadata": {
    "tags": []
   },
   "outputs": [
    {
     "output_type": "stream",
     "name": "stdout",
     "text": [
      "torch.Size([10])\n",
      "0.8010663986206055\n"
     ]
    }
   ],
   "source": [
    "import time\n",
    "current_time = time.time()\n",
    "\n",
    "x, y1, y2 = PhotonTransmission(10)\n",
    "finish_time = time.time()\n",
    "print(finish_time-current_time)\n"
   ]
  },
  {
   "cell_type": "code",
   "execution_count": 33,
   "metadata": {},
   "outputs": [
    {
     "output_type": "execute_result",
     "data": {
      "text/plain": [
       "[<matplotlib.lines.Line2D at 0x7f778cb29b50>]"
      ]
     },
     "metadata": {},
     "execution_count": 33
    },
    {
     "output_type": "display_data",
     "data": {
      "text/plain": "<Figure size 432x288 with 1 Axes>",
      "image/svg+xml": "<?xml version=\"1.0\" encoding=\"utf-8\" standalone=\"no\"?>\n<!DOCTYPE svg PUBLIC \"-//W3C//DTD SVG 1.1//EN\"\n  \"http://www.w3.org/Graphics/SVG/1.1/DTD/svg11.dtd\">\n<!-- Created with matplotlib (https://matplotlib.org/) -->\n<svg height=\"248.518125pt\" version=\"1.1\" viewBox=\"0 0 372.103125 248.518125\" width=\"372.103125pt\" xmlns=\"http://www.w3.org/2000/svg\" xmlns:xlink=\"http://www.w3.org/1999/xlink\">\n <metadata>\n  <rdf:RDF xmlns:cc=\"http://creativecommons.org/ns#\" xmlns:dc=\"http://purl.org/dc/elements/1.1/\" xmlns:rdf=\"http://www.w3.org/1999/02/22-rdf-syntax-ns#\">\n   <cc:Work>\n    <dc:type rdf:resource=\"http://purl.org/dc/dcmitype/StillImage\"/>\n    <dc:date>2021-02-02T02:50:18.656061</dc:date>\n    <dc:format>image/svg+xml</dc:format>\n    <dc:creator>\n     <cc:Agent>\n      <dc:title>Matplotlib v3.3.2, https://matplotlib.org/</dc:title>\n     </cc:Agent>\n    </dc:creator>\n   </cc:Work>\n  </rdf:RDF>\n </metadata>\n <defs>\n  <style type=\"text/css\">*{stroke-linecap:butt;stroke-linejoin:round;}</style>\n </defs>\n <g id=\"figure_1\">\n  <g id=\"patch_1\">\n   <path d=\"M 0 248.518125 \nL 372.103125 248.518125 \nL 372.103125 0 \nL 0 0 \nz\n\" style=\"fill:none;\"/>\n  </g>\n  <g id=\"axes_1\">\n   <g id=\"patch_2\">\n    <path d=\"M 30.103125 224.64 \nL 364.903125 224.64 \nL 364.903125 7.2 \nL 30.103125 7.2 \nz\n\" style=\"fill:#ffffff;\"/>\n   </g>\n   <g id=\"matplotlib.axis_1\">\n    <g id=\"xtick_1\">\n     <g id=\"line2d_1\">\n      <defs>\n       <path d=\"M 0 0 \nL 0 3.5 \n\" id=\"m3a49a99f3a\" style=\"stroke:#000000;stroke-width:0.8;\"/>\n      </defs>\n      <g>\n       <use style=\"stroke:#000000;stroke-width:0.8;\" x=\"45.321307\" xlink:href=\"#m3a49a99f3a\" y=\"224.64\"/>\n      </g>\n     </g>\n     <g id=\"text_1\">\n      <!-- −80 -->\n      <g transform=\"translate(34.768963 239.238438)scale(0.1 -0.1)\">\n       <defs>\n        <path d=\"M 10.59375 35.5 \nL 73.1875 35.5 \nL 73.1875 27.203125 \nL 10.59375 27.203125 \nz\n\" id=\"DejaVuSans-8722\"/>\n        <path d=\"M 31.78125 34.625 \nQ 24.75 34.625 20.71875 30.859375 \nQ 16.703125 27.09375 16.703125 20.515625 \nQ 16.703125 13.921875 20.71875 10.15625 \nQ 24.75 6.390625 31.78125 6.390625 \nQ 38.8125 6.390625 42.859375 10.171875 \nQ 46.921875 13.96875 46.921875 20.515625 \nQ 46.921875 27.09375 42.890625 30.859375 \nQ 38.875 34.625 31.78125 34.625 \nz\nM 21.921875 38.8125 \nQ 15.578125 40.375 12.03125 44.71875 \nQ 8.5 49.078125 8.5 55.328125 \nQ 8.5 64.0625 14.71875 69.140625 \nQ 20.953125 74.21875 31.78125 74.21875 \nQ 42.671875 74.21875 48.875 69.140625 \nQ 55.078125 64.0625 55.078125 55.328125 \nQ 55.078125 49.078125 51.53125 44.71875 \nQ 48 40.375 41.703125 38.8125 \nQ 48.828125 37.15625 52.796875 32.3125 \nQ 56.78125 27.484375 56.78125 20.515625 \nQ 56.78125 9.90625 50.3125 4.234375 \nQ 43.84375 -1.421875 31.78125 -1.421875 \nQ 19.734375 -1.421875 13.25 4.234375 \nQ 6.78125 9.90625 6.78125 20.515625 \nQ 6.78125 27.484375 10.78125 32.3125 \nQ 14.796875 37.15625 21.921875 38.8125 \nz\nM 18.3125 54.390625 \nQ 18.3125 48.734375 21.84375 45.5625 \nQ 25.390625 42.390625 31.78125 42.390625 \nQ 38.140625 42.390625 41.71875 45.5625 \nQ 45.3125 48.734375 45.3125 54.390625 \nQ 45.3125 60.0625 41.71875 63.234375 \nQ 38.140625 66.40625 31.78125 66.40625 \nQ 25.390625 66.40625 21.84375 63.234375 \nQ 18.3125 60.0625 18.3125 54.390625 \nz\n\" id=\"DejaVuSans-56\"/>\n        <path d=\"M 31.78125 66.40625 \nQ 24.171875 66.40625 20.328125 58.90625 \nQ 16.5 51.421875 16.5 36.375 \nQ 16.5 21.390625 20.328125 13.890625 \nQ 24.171875 6.390625 31.78125 6.390625 \nQ 39.453125 6.390625 43.28125 13.890625 \nQ 47.125 21.390625 47.125 36.375 \nQ 47.125 51.421875 43.28125 58.90625 \nQ 39.453125 66.40625 31.78125 66.40625 \nz\nM 31.78125 74.21875 \nQ 44.046875 74.21875 50.515625 64.515625 \nQ 56.984375 54.828125 56.984375 36.375 \nQ 56.984375 17.96875 50.515625 8.265625 \nQ 44.046875 -1.421875 31.78125 -1.421875 \nQ 19.53125 -1.421875 13.0625 8.265625 \nQ 6.59375 17.96875 6.59375 36.375 \nQ 6.59375 54.828125 13.0625 64.515625 \nQ 19.53125 74.21875 31.78125 74.21875 \nz\n\" id=\"DejaVuSans-48\"/>\n       </defs>\n       <use xlink:href=\"#DejaVuSans-8722\"/>\n       <use x=\"83.789062\" xlink:href=\"#DejaVuSans-56\"/>\n       <use x=\"147.412109\" xlink:href=\"#DejaVuSans-48\"/>\n      </g>\n     </g>\n    </g>\n    <g id=\"xtick_2\">\n     <g id=\"line2d_2\">\n      <g>\n       <use style=\"stroke:#000000;stroke-width:0.8;\" x=\"83.366761\" xlink:href=\"#m3a49a99f3a\" y=\"224.64\"/>\n      </g>\n     </g>\n     <g id=\"text_2\">\n      <!-- −60 -->\n      <g transform=\"translate(72.814418 239.238438)scale(0.1 -0.1)\">\n       <defs>\n        <path d=\"M 33.015625 40.375 \nQ 26.375 40.375 22.484375 35.828125 \nQ 18.609375 31.296875 18.609375 23.390625 \nQ 18.609375 15.53125 22.484375 10.953125 \nQ 26.375 6.390625 33.015625 6.390625 \nQ 39.65625 6.390625 43.53125 10.953125 \nQ 47.40625 15.53125 47.40625 23.390625 \nQ 47.40625 31.296875 43.53125 35.828125 \nQ 39.65625 40.375 33.015625 40.375 \nz\nM 52.59375 71.296875 \nL 52.59375 62.3125 \nQ 48.875 64.0625 45.09375 64.984375 \nQ 41.3125 65.921875 37.59375 65.921875 \nQ 27.828125 65.921875 22.671875 59.328125 \nQ 17.53125 52.734375 16.796875 39.40625 \nQ 19.671875 43.65625 24.015625 45.921875 \nQ 28.375 48.1875 33.59375 48.1875 \nQ 44.578125 48.1875 50.953125 41.515625 \nQ 57.328125 34.859375 57.328125 23.390625 \nQ 57.328125 12.15625 50.6875 5.359375 \nQ 44.046875 -1.421875 33.015625 -1.421875 \nQ 20.359375 -1.421875 13.671875 8.265625 \nQ 6.984375 17.96875 6.984375 36.375 \nQ 6.984375 53.65625 15.1875 63.9375 \nQ 23.390625 74.21875 37.203125 74.21875 \nQ 40.921875 74.21875 44.703125 73.484375 \nQ 48.484375 72.75 52.59375 71.296875 \nz\n\" id=\"DejaVuSans-54\"/>\n       </defs>\n       <use xlink:href=\"#DejaVuSans-8722\"/>\n       <use x=\"83.789062\" xlink:href=\"#DejaVuSans-54\"/>\n       <use x=\"147.412109\" xlink:href=\"#DejaVuSans-48\"/>\n      </g>\n     </g>\n    </g>\n    <g id=\"xtick_3\">\n     <g id=\"line2d_3\">\n      <g>\n       <use style=\"stroke:#000000;stroke-width:0.8;\" x=\"121.412216\" xlink:href=\"#m3a49a99f3a\" y=\"224.64\"/>\n      </g>\n     </g>\n     <g id=\"text_3\">\n      <!-- −40 -->\n      <g transform=\"translate(110.859872 239.238438)scale(0.1 -0.1)\">\n       <defs>\n        <path d=\"M 37.796875 64.3125 \nL 12.890625 25.390625 \nL 37.796875 25.390625 \nz\nM 35.203125 72.90625 \nL 47.609375 72.90625 \nL 47.609375 25.390625 \nL 58.015625 25.390625 \nL 58.015625 17.1875 \nL 47.609375 17.1875 \nL 47.609375 0 \nL 37.796875 0 \nL 37.796875 17.1875 \nL 4.890625 17.1875 \nL 4.890625 26.703125 \nz\n\" id=\"DejaVuSans-52\"/>\n       </defs>\n       <use xlink:href=\"#DejaVuSans-8722\"/>\n       <use x=\"83.789062\" xlink:href=\"#DejaVuSans-52\"/>\n       <use x=\"147.412109\" xlink:href=\"#DejaVuSans-48\"/>\n      </g>\n     </g>\n    </g>\n    <g id=\"xtick_4\">\n     <g id=\"line2d_4\">\n      <g>\n       <use style=\"stroke:#000000;stroke-width:0.8;\" x=\"159.45767\" xlink:href=\"#m3a49a99f3a\" y=\"224.64\"/>\n      </g>\n     </g>\n     <g id=\"text_4\">\n      <!-- −20 -->\n      <g transform=\"translate(148.905327 239.238438)scale(0.1 -0.1)\">\n       <defs>\n        <path d=\"M 19.1875 8.296875 \nL 53.609375 8.296875 \nL 53.609375 0 \nL 7.328125 0 \nL 7.328125 8.296875 \nQ 12.9375 14.109375 22.625 23.890625 \nQ 32.328125 33.6875 34.8125 36.53125 \nQ 39.546875 41.84375 41.421875 45.53125 \nQ 43.3125 49.21875 43.3125 52.78125 \nQ 43.3125 58.59375 39.234375 62.25 \nQ 35.15625 65.921875 28.609375 65.921875 \nQ 23.96875 65.921875 18.8125 64.3125 \nQ 13.671875 62.703125 7.8125 59.421875 \nL 7.8125 69.390625 \nQ 13.765625 71.78125 18.9375 73 \nQ 24.125 74.21875 28.421875 74.21875 \nQ 39.75 74.21875 46.484375 68.546875 \nQ 53.21875 62.890625 53.21875 53.421875 \nQ 53.21875 48.921875 51.53125 44.890625 \nQ 49.859375 40.875 45.40625 35.40625 \nQ 44.1875 33.984375 37.640625 27.21875 \nQ 31.109375 20.453125 19.1875 8.296875 \nz\n\" id=\"DejaVuSans-50\"/>\n       </defs>\n       <use xlink:href=\"#DejaVuSans-8722\"/>\n       <use x=\"83.789062\" xlink:href=\"#DejaVuSans-50\"/>\n       <use x=\"147.412109\" xlink:href=\"#DejaVuSans-48\"/>\n      </g>\n     </g>\n    </g>\n    <g id=\"xtick_5\">\n     <g id=\"line2d_5\">\n      <g>\n       <use style=\"stroke:#000000;stroke-width:0.8;\" x=\"197.503125\" xlink:href=\"#m3a49a99f3a\" y=\"224.64\"/>\n      </g>\n     </g>\n     <g id=\"text_5\">\n      <!-- 0 -->\n      <g transform=\"translate(194.321875 239.238438)scale(0.1 -0.1)\">\n       <use xlink:href=\"#DejaVuSans-48\"/>\n      </g>\n     </g>\n    </g>\n    <g id=\"xtick_6\">\n     <g id=\"line2d_6\">\n      <g>\n       <use style=\"stroke:#000000;stroke-width:0.8;\" x=\"235.54858\" xlink:href=\"#m3a49a99f3a\" y=\"224.64\"/>\n      </g>\n     </g>\n     <g id=\"text_6\">\n      <!-- 20 -->\n      <g transform=\"translate(229.18608 239.238438)scale(0.1 -0.1)\">\n       <use xlink:href=\"#DejaVuSans-50\"/>\n       <use x=\"63.623047\" xlink:href=\"#DejaVuSans-48\"/>\n      </g>\n     </g>\n    </g>\n    <g id=\"xtick_7\">\n     <g id=\"line2d_7\">\n      <g>\n       <use style=\"stroke:#000000;stroke-width:0.8;\" x=\"273.594034\" xlink:href=\"#m3a49a99f3a\" y=\"224.64\"/>\n      </g>\n     </g>\n     <g id=\"text_7\">\n      <!-- 40 -->\n      <g transform=\"translate(267.231534 239.238438)scale(0.1 -0.1)\">\n       <use xlink:href=\"#DejaVuSans-52\"/>\n       <use x=\"63.623047\" xlink:href=\"#DejaVuSans-48\"/>\n      </g>\n     </g>\n    </g>\n    <g id=\"xtick_8\">\n     <g id=\"line2d_8\">\n      <g>\n       <use style=\"stroke:#000000;stroke-width:0.8;\" x=\"311.639489\" xlink:href=\"#m3a49a99f3a\" y=\"224.64\"/>\n      </g>\n     </g>\n     <g id=\"text_8\">\n      <!-- 60 -->\n      <g transform=\"translate(305.276989 239.238438)scale(0.1 -0.1)\">\n       <use xlink:href=\"#DejaVuSans-54\"/>\n       <use x=\"63.623047\" xlink:href=\"#DejaVuSans-48\"/>\n      </g>\n     </g>\n    </g>\n    <g id=\"xtick_9\">\n     <g id=\"line2d_9\">\n      <g>\n       <use style=\"stroke:#000000;stroke-width:0.8;\" x=\"349.684943\" xlink:href=\"#m3a49a99f3a\" y=\"224.64\"/>\n      </g>\n     </g>\n     <g id=\"text_9\">\n      <!-- 80 -->\n      <g transform=\"translate(343.322443 239.238438)scale(0.1 -0.1)\">\n       <use xlink:href=\"#DejaVuSans-56\"/>\n       <use x=\"63.623047\" xlink:href=\"#DejaVuSans-48\"/>\n      </g>\n     </g>\n    </g>\n   </g>\n   <g id=\"matplotlib.axis_2\">\n    <g id=\"ytick_1\">\n     <g id=\"line2d_10\">\n      <defs>\n       <path d=\"M 0 0 \nL -3.5 0 \n\" id=\"mdfe465a285\" style=\"stroke:#000000;stroke-width:0.8;\"/>\n      </defs>\n      <g>\n       <use style=\"stroke:#000000;stroke-width:0.8;\" x=\"30.103125\" xlink:href=\"#mdfe465a285\" y=\"214.756807\"/>\n      </g>\n     </g>\n     <g id=\"text_10\">\n      <!-- 0.0 -->\n      <g transform=\"translate(7.2 218.556026)scale(0.1 -0.1)\">\n       <defs>\n        <path d=\"M 10.6875 12.40625 \nL 21 12.40625 \nL 21 0 \nL 10.6875 0 \nz\n\" id=\"DejaVuSans-46\"/>\n       </defs>\n       <use xlink:href=\"#DejaVuSans-48\"/>\n       <use x=\"63.623047\" xlink:href=\"#DejaVuSans-46\"/>\n       <use x=\"95.410156\" xlink:href=\"#DejaVuSans-48\"/>\n      </g>\n     </g>\n    </g>\n    <g id=\"ytick_2\">\n     <g id=\"line2d_11\">\n      <g>\n       <use style=\"stroke:#000000;stroke-width:0.8;\" x=\"30.103125\" xlink:href=\"#mdfe465a285\" y=\"175.155678\"/>\n      </g>\n     </g>\n     <g id=\"text_11\">\n      <!-- 0.2 -->\n      <g transform=\"translate(7.2 178.954897)scale(0.1 -0.1)\">\n       <use xlink:href=\"#DejaVuSans-48\"/>\n       <use x=\"63.623047\" xlink:href=\"#DejaVuSans-46\"/>\n       <use x=\"95.410156\" xlink:href=\"#DejaVuSans-50\"/>\n      </g>\n     </g>\n    </g>\n    <g id=\"ytick_3\">\n     <g id=\"line2d_12\">\n      <g>\n       <use style=\"stroke:#000000;stroke-width:0.8;\" x=\"30.103125\" xlink:href=\"#mdfe465a285\" y=\"135.554549\"/>\n      </g>\n     </g>\n     <g id=\"text_12\">\n      <!-- 0.4 -->\n      <g transform=\"translate(7.2 139.353767)scale(0.1 -0.1)\">\n       <use xlink:href=\"#DejaVuSans-48\"/>\n       <use x=\"63.623047\" xlink:href=\"#DejaVuSans-46\"/>\n       <use x=\"95.410156\" xlink:href=\"#DejaVuSans-52\"/>\n      </g>\n     </g>\n    </g>\n    <g id=\"ytick_4\">\n     <g id=\"line2d_13\">\n      <g>\n       <use style=\"stroke:#000000;stroke-width:0.8;\" x=\"30.103125\" xlink:href=\"#mdfe465a285\" y=\"95.953419\"/>\n      </g>\n     </g>\n     <g id=\"text_13\">\n      <!-- 0.6 -->\n      <g transform=\"translate(7.2 99.752638)scale(0.1 -0.1)\">\n       <use xlink:href=\"#DejaVuSans-48\"/>\n       <use x=\"63.623047\" xlink:href=\"#DejaVuSans-46\"/>\n       <use x=\"95.410156\" xlink:href=\"#DejaVuSans-54\"/>\n      </g>\n     </g>\n    </g>\n    <g id=\"ytick_5\">\n     <g id=\"line2d_14\">\n      <g>\n       <use style=\"stroke:#000000;stroke-width:0.8;\" x=\"30.103125\" xlink:href=\"#mdfe465a285\" y=\"56.35229\"/>\n      </g>\n     </g>\n     <g id=\"text_14\">\n      <!-- 0.8 -->\n      <g transform=\"translate(7.2 60.151509)scale(0.1 -0.1)\">\n       <use xlink:href=\"#DejaVuSans-48\"/>\n       <use x=\"63.623047\" xlink:href=\"#DejaVuSans-46\"/>\n       <use x=\"95.410156\" xlink:href=\"#DejaVuSans-56\"/>\n      </g>\n     </g>\n    </g>\n    <g id=\"ytick_6\">\n     <g id=\"line2d_15\">\n      <g>\n       <use style=\"stroke:#000000;stroke-width:0.8;\" x=\"30.103125\" xlink:href=\"#mdfe465a285\" y=\"16.751161\"/>\n      </g>\n     </g>\n     <g id=\"text_15\">\n      <!-- 1.0 -->\n      <g transform=\"translate(7.2 20.550379)scale(0.1 -0.1)\">\n       <defs>\n        <path d=\"M 12.40625 8.296875 \nL 28.515625 8.296875 \nL 28.515625 63.921875 \nL 10.984375 60.40625 \nL 10.984375 69.390625 \nL 28.421875 72.90625 \nL 38.28125 72.90625 \nL 38.28125 8.296875 \nL 54.390625 8.296875 \nL 54.390625 0 \nL 12.40625 0 \nz\n\" id=\"DejaVuSans-49\"/>\n       </defs>\n       <use xlink:href=\"#DejaVuSans-49\"/>\n       <use x=\"63.623047\" xlink:href=\"#DejaVuSans-46\"/>\n       <use x=\"95.410156\" xlink:href=\"#DejaVuSans-48\"/>\n      </g>\n     </g>\n    </g>\n   </g>\n   <g id=\"line2d_16\">\n    <path clip-path=\"url(#pf023a79fb7)\" d=\"M 45.321307 201.404949 \nL 53.784309 199.906717 \nL 61.455806 198.326644 \nL 68.45757 196.66155 \nL 74.91137 194.900931 \nL 80.878091 193.044224 \nL 86.357732 191.110795 \nL 91.532949 189.050026 \nL 96.342857 186.897236 \nL 100.909224 184.608894 \nL 105.171168 182.226404 \nL 109.250456 179.691181 \nL 113.14709 177.004942 \nL 116.861069 174.17236 \nL 120.392394 171.201555 \nL 123.801948 168.045493 \nL 127.150618 164.638603 \nL 130.377518 161.035346 \nL 133.543533 157.161664 \nL 136.587778 153.088656 \nL 139.632024 148.641181 \nL 142.615384 143.886569 \nL 145.598744 138.707125 \nL 148.582104 133.070988 \nL 151.565465 126.948754 \nL 154.548825 120.316104 \nL 157.59307 113.005568 \nL 160.759085 104.818812 \nL 164.107755 95.53607 \nL 167.882619 84.388816 \nL 172.753411 69.244512 \nL 180.18137 46.14024 \nL 183.103845 37.812166 \nL 185.417472 31.845719 \nL 187.426673 27.257599 \nL 189.131451 23.884512 \nL 190.653573 21.334159 \nL 191.993041 19.491468 \nL 193.210739 18.183222 \nL 194.184898 17.436931 \nL 194.915517 17.120246 \nL 195.402596 17.102472 \nL 195.767905 17.280908 \nL 196.07233 17.678802 \nL 196.315869 18.329804 \nL 196.559409 19.633919 \nL 196.802949 22.623085 \nL 196.985603 28.160515 \nL 197.168258 44.256773 \nL 197.290028 77.423879 \nL 197.472683 195.603345 \nL 197.533567 164.001533 \nL 197.777107 44.256773 \nL 198.020647 25.734532 \nL 198.264186 20.791772 \nL 198.568611 18.572855 \nL 198.93392 17.571769 \nL 199.29923 17.195083 \nL 199.725424 17.083636 \nL 200.273388 17.195626 \nL 201.004007 17.594099 \nL 201.917281 18.354966 \nL 203.013209 19.56647 \nL 204.291792 21.334159 \nL 205.692145 23.66379 \nL 207.275152 26.744717 \nL 209.040814 30.678024 \nL 211.110901 35.858583 \nL 213.546297 42.581601 \nL 216.651427 51.845578 \nL 221.948414 68.4749 \nL 227.85425 86.778933 \nL 231.750884 98.128486 \nL 235.221323 107.560029 \nL 238.448223 115.701016 \nL 241.553353 122.94978 \nL 244.597598 129.508041 \nL 247.641844 135.544362 \nL 250.686089 141.087216 \nL 253.730334 146.169252 \nL 256.774579 150.824827 \nL 259.879709 155.16989 \nL 263.045724 159.216933 \nL 266.272624 162.980166 \nL 269.560409 166.474952 \nL 272.969964 169.773344 \nL 276.501288 172.875989 \nL 280.154383 175.78591 \nL 283.929247 178.507992 \nL 287.886765 181.086388 \nL 292.026939 183.517425 \nL 296.410652 185.83069 \nL 301.037905 188.01801 \nL 305.969582 190.099044 \nL 311.205684 192.064112 \nL 316.807095 193.926566 \nL 322.8347 195.694133 \nL 329.349385 197.370422 \nL 336.412034 198.956229 \nL 344.144417 200.46171 \nL 349.684943 201.414909 \nL 349.684943 201.414909 \n\" style=\"fill:none;stroke:#0000ff;stroke-linecap:square;stroke-width:1.5;\"/>\n   </g>\n   <g id=\"line2d_17\">\n    <path clip-path=\"url(#pf023a79fb7)\" d=\"M 45.321307 30.103027 \nL 53.784309 31.601251 \nL 61.455806 33.181346 \nL 68.45757 34.846439 \nL 74.91137 36.607058 \nL 80.817206 38.443576 \nL 86.357732 40.397194 \nL 91.472064 42.43227 \nL 96.281972 44.58192 \nL 100.848339 46.866869 \nL 105.171168 49.281617 \nL 109.250456 51.81684 \nL 113.14709 54.503094 \nL 116.800184 57.286904 \nL 120.392394 60.306484 \nL 123.801948 63.462566 \nL 127.150618 66.86943 \nL 130.377518 70.472716 \nL 133.543533 74.346434 \nL 136.587778 78.419454 \nL 139.632024 82.866952 \nL 142.615384 87.621588 \nL 145.598744 92.801062 \nL 148.582104 98.437264 \nL 151.565465 104.559545 \nL 154.548825 111.192265 \nL 157.59307 118.502907 \nL 160.759085 126.689793 \nL 164.107755 135.9727 \nL 167.882619 147.120268 \nL 172.753411 162.265274 \nL 180.18137 185.371942 \nL 183.103845 193.702177 \nL 185.417472 199.671623 \nL 187.426673 204.264139 \nL 189.192336 207.754862 \nL 190.714458 210.297534 \nL 192.114811 212.21435 \nL 193.332509 213.519223 \nL 194.367552 214.3257 \nL 195.159056 214.696847 \nL 195.70702 214.743463 \nL 196.07233 214.573684 \nL 196.376754 214.1445 \nL 196.620294 213.338092 \nL 196.802949 212.048906 \nL 196.985603 209.137797 \nL 197.168258 200.649305 \nL 197.290028 183.144941 \nL 197.472683 120.764146 \nL 197.533567 137.445379 \nL 197.777107 200.649301 \nL 198.020647 210.41483 \nL 198.264186 213.005544 \nL 198.568611 214.1445 \nL 198.873035 214.573684 \nL 199.238345 214.743463 \nL 199.725424 214.713071 \nL 200.395158 214.433759 \nL 201.308432 213.787795 \nL 202.40436 212.711278 \nL 203.622058 211.182953 \nL 204.961526 209.134084 \nL 206.483648 206.377316 \nL 208.188426 202.801836 \nL 210.136743 198.165195 \nL 212.389484 192.199021 \nL 215.129305 184.283636 \nL 218.965054 172.462112 \nL 228.645754 142.366275 \nL 232.420618 131.507528 \nL 235.830172 122.365224 \nL 239.057072 114.340888 \nL 242.162202 107.203973 \nL 245.206447 100.752036 \nL 248.250693 94.816806 \nL 251.294938 89.368764 \nL 254.339183 84.374759 \nL 257.383428 79.800282 \nL 260.488558 75.530983 \nL 263.654573 71.554245 \nL 266.881473 67.855905 \nL 270.169258 64.420763 \nL 273.578813 61.177948 \nL 277.110137 58.126821 \nL 280.763232 55.26435 \nL 284.598981 52.544767 \nL 288.617384 49.973784 \nL 292.818443 47.554055 \nL 297.263041 45.25577 \nL 301.890293 43.112835 \nL 306.821971 41.072838 \nL 312.118957 39.124271 \nL 317.842138 37.261517 \nL 323.991514 35.499553 \nL 330.627968 33.833799 \nL 337.873272 32.250058 \nL 345.788309 30.753321 \nL 349.684943 30.093055 \nL 349.684943 30.093055 \n\" style=\"fill:none;stroke:#ff0000;stroke-linecap:square;stroke-width:1.5;\"/>\n   </g>\n   <g id=\"patch_3\">\n    <path d=\"M 30.103125 224.64 \nL 30.103125 7.2 \n\" style=\"fill:none;stroke:#000000;stroke-linecap:square;stroke-linejoin:miter;stroke-width:0.8;\"/>\n   </g>\n   <g id=\"patch_4\">\n    <path d=\"M 364.903125 224.64 \nL 364.903125 7.2 \n\" style=\"fill:none;stroke:#000000;stroke-linecap:square;stroke-linejoin:miter;stroke-width:0.8;\"/>\n   </g>\n   <g id=\"patch_5\">\n    <path d=\"M 30.103125 224.64 \nL 364.903125 224.64 \n\" style=\"fill:none;stroke:#000000;stroke-linecap:square;stroke-linejoin:miter;stroke-width:0.8;\"/>\n   </g>\n   <g id=\"patch_6\">\n    <path d=\"M 30.103125 7.2 \nL 364.903125 7.2 \n\" style=\"fill:none;stroke:#000000;stroke-linecap:square;stroke-linejoin:miter;stroke-width:0.8;\"/>\n   </g>\n  </g>\n </g>\n <defs>\n  <clipPath id=\"pf023a79fb7\">\n   <rect height=\"217.44\" width=\"334.8\" x=\"30.103125\" y=\"7.2\"/>\n  </clipPath>\n </defs>\n</svg>\n",
      "image/png": "[encoded data removed]"
     },
     "metadata": {
      "needs_background": "light"
     }
    }
   ],
   "source": [
    "import matplotlib.pyplot as plt\n",
    "plt.plot(np.transpose(x), y1, 'b')\n",
    "plt.plot(x, y2, 'r')"
   ]
  },
  {
   "cell_type": "code",
   "execution_count": 2,
   "metadata": {},
   "outputs": [
    {
     "output_type": "stream",
     "name": "stdout",
     "text": [
      "[[0.  0.2 0.2 0.2 0.2 0.2 0.2 0.2 0.2 0.2]\n [0.2 0.  0.2 0.2 0.2 0.2 0.2 0.2 0.2 0.2]\n [0.2 0.2 0.  0.2 0.2 0.2 0.2 0.2 0.2 0.2]\n [0.2 0.2 0.2 0.  0.2 0.2 0.2 0.2 0.2 0.2]\n [0.2 0.2 0.2 0.2 0.  0.2 0.2 0.2 0.2 0.2]\n [0.2 0.2 0.2 0.2 0.2 0.  0.2 0.2 0.2 0.2]\n [0.2 0.2 0.2 0.2 0.2 0.2 0.  0.2 0.2 0.2]\n [0.2 0.2 0.2 0.2 0.2 0.2 0.2 0.  0.2 0.2]\n [0.2 0.2 0.2 0.2 0.2 0.2 0.2 0.2 0.  0.2]\n [0.2 0.2 0.2 0.2 0.2 0.2 0.2 0.2 0.2 0. ]]\n"
     ]
    }
   ],
   "source": [
    "from genJ import genJ\n",
    "import numpy as np\n",
    "\n",
    "J = genJ(0.2*np.ones(45))\n",
    "print(J)"
   ]
  },
  {
   "cell_type": "code",
   "execution_count": 1,
   "metadata": {},
   "outputs": [
    {
     "output_type": "stream",
     "name": "stdout",
     "text": [
      "[12, 13, 14, 15, 23, 24, 25, 34, 35, 45]\n"
     ]
    }
   ],
   "source": [
    "from genJvec import genJvec\n",
    "import numpy as np\n",
    "\n",
    "jVec = genJvec(5)\n",
    "print(jVec)"
   ]
  },
  {
   "cell_type": "code",
   "execution_count": 3,
   "metadata": {},
   "outputs": [
    {
     "output_type": "stream",
     "name": "stdout",
     "text": [
      "5\n[[5. 5. 0. 0. 0. 5. 0. 0. 0. 0. 0. 0. 0. 0. 0.]\n [5. 0. 5. 0. 0. 0. 5. 0. 0. 0. 0. 0. 0. 0. 0.]\n [5. 0. 0. 5. 0. 0. 0. 5. 0. 0. 0. 0. 0. 0. 0.]\n [5. 0. 0. 0. 5. 0. 0. 0. 5. 0. 0. 0. 0. 0. 0.]\n [0. 5. 5. 0. 0. 0. 0. 0. 0. 5. 0. 0. 0. 0. 0.]\n [0. 5. 0. 5. 0. 0. 0. 0. 0. 0. 5. 0. 0. 0. 0.]\n [0. 5. 0. 0. 5. 0. 0. 0. 0. 0. 0. 5. 0. 0. 0.]\n [0. 0. 5. 5. 0. 0. 0. 0. 0. 0. 0. 0. 5. 0. 0.]\n [0. 0. 5. 0. 5. 0. 0. 0. 0. 0. 0. 0. 0. 5. 0.]\n [0. 0. 0. 5. 5. 0. 0. 0. 0. 0. 0. 0. 0. 0. 5.]]\n[[5. 5. 0. 0. 0. 5. 0. 0. 0. 0. 0. 0. 0. 0. 0.]\n [5. 0. 5. 0. 0. 0. 5. 0. 0. 0. 0. 0. 0. 0. 0.]\n [5. 0. 0. 5. 0. 0. 0. 5. 0. 0. 0. 0. 0. 0. 0.]\n [5. 0. 0. 0. 5. 0. 0. 0. 5. 0. 0. 0. 0. 0. 0.]\n [0. 5. 5. 0. 0. 0. 0. 0. 0. 5. 0. 0. 0. 0. 0.]\n [0. 5. 0. 5. 0. 0. 0. 0. 0. 0. 5. 0. 0. 0. 0.]\n [0. 5. 0. 0. 5. 0. 0. 0. 0. 0. 0. 5. 0. 0. 0.]\n [0. 0. 5. 5. 0. 0. 0. 0. 0. 0. 0. 0. 5. 0. 0.]\n [0. 0. 5. 0. 5. 0. 0. 0. 0. 0. 0. 0. 0. 5. 0.]\n [0. 0. 0. 5. 5. 0. 0. 0. 0. 0. 0. 0. 0. 0. 5.]]\n4\n[[0. 0. 0. 0. 0.]\n [0. 0. 0. 0. 0.]\n [0. 0. 0. 0. 0.]\n [0. 0. 0. 0. 0.]\n [0. 0. 0. 0. 0.]\n [0. 0. 0. 0. 0.]]\n[[0. 0. 0. 0. 0. 5. 5. 0. 0. 5. 0. 0. 0. 0. 0.]\n [0. 0. 0. 0. 0. 5. 0. 5. 0. 0. 5. 0. 0. 0. 0.]\n [0. 0. 0. 0. 0. 5. 0. 0. 5. 0. 0. 5. 0. 0. 0.]\n [0. 0. 0. 0. 0. 0. 5. 5. 0. 0. 0. 0. 5. 0. 0.]\n [0. 0. 0. 0. 0. 0. 5. 0. 5. 0. 0. 0. 0. 5. 0.]\n [0. 0. 0. 0. 0. 0. 0. 5. 5. 0. 0. 0. 0. 0. 5.]]\n[[5. 5. 0. 0. 0. 5. 0. 0. 0. 0. 0. 0. 0. 0. 0.]\n [5. 0. 5. 0. 0. 0. 5. 0. 0. 0. 0. 0. 0. 0. 0.]\n [5. 0. 0. 5. 0. 0. 0. 5. 0. 0. 0. 0. 0. 0. 0.]\n [5. 0. 0. 0. 5. 0. 0. 0. 5. 0. 0. 0. 0. 0. 0.]\n [0. 5. 5. 0. 0. 0. 0. 0. 0. 5. 0. 0. 0. 0. 0.]\n [0. 5. 0. 5. 0. 0. 0. 0. 0. 0. 5. 0. 0. 0. 0.]\n [0. 5. 0. 0. 5. 0. 0. 0. 0. 0. 0. 5. 0. 0. 0.]\n [0. 0. 5. 5. 0. 0. 0. 0. 0. 0. 0. 0. 5. 0. 0.]\n [0. 0. 5. 0. 5. 0. 0. 0. 0. 0. 0. 0. 0. 5. 0.]\n [0. 0. 0. 5. 5. 0. 0. 0. 0. 0. 0. 0. 0. 0. 5.]\n [0. 0. 0. 0. 0. 5. 5. 0. 0. 5. 0. 0. 0. 0. 0.]\n [0. 0. 0. 0. 0. 5. 0. 5. 0. 0. 5. 0. 0. 0. 0.]\n [0. 0. 0. 0. 0. 5. 0. 0. 5. 0. 0. 5. 0. 0. 0.]\n [0. 0. 0. 0. 0. 0. 5. 5. 0. 0. 0. 0. 5. 0. 0.]\n [0. 0. 0. 0. 0. 0. 5. 0. 5. 0. 0. 0. 0. 5. 0.]\n [0. 0. 0. 0. 0. 0. 0. 5. 5. 0. 0. 0. 0. 0. 5.]]\n3\n[[0. 0. 0. 0. 0. 0. 0. 0. 0.]\n [0. 0. 0. 0. 0. 0. 0. 0. 0.]\n [0. 0. 0. 0. 0. 0. 0. 0. 0.]]\n[[0. 0. 0. 0. 0. 0. 0. 0. 0. 5. 5. 0. 5. 0. 0.]\n [0. 0. 0. 0. 0. 0. 0. 0. 0. 5. 0. 5. 0. 5. 0.]\n [0. 0. 0. 0. 0. 0. 0. 0. 0. 0. 5. 5. 0. 0. 5.]]\n[[5. 5. 0. 0. 0. 5. 0. 0. 0. 0. 0. 0. 0. 0. 0.]\n [5. 0. 5. 0. 0. 0. 5. 0. 0. 0. 0. 0. 0. 0. 0.]\n [5. 0. 0. 5. 0. 0. 0. 5. 0. 0. 0. 0. 0. 0. 0.]\n [5. 0. 0. 0. 5. 0. 0. 0. 5. 0. 0. 0. 0. 0. 0.]\n [0. 5. 5. 0. 0. 0. 0. 0. 0. 5. 0. 0. 0. 0. 0.]\n [0. 5. 0. 5. 0. 0. 0. 0. 0. 0. 5. 0. 0. 0. 0.]\n [0. 5. 0. 0. 5. 0. 0. 0. 0. 0. 0. 5. 0. 0. 0.]\n [0. 0. 5. 5. 0. 0. 0. 0. 0. 0. 0. 0. 5. 0. 0.]\n [0. 0. 5. 0. 5. 0. 0. 0. 0. 0. 0. 0. 0. 5. 0.]\n [0. 0. 0. 5. 5. 0. 0. 0. 0. 0. 0. 0. 0. 0. 5.]\n [0. 0. 0. 0. 0. 5. 5. 0. 0. 5. 0. 0. 0. 0. 0.]\n [0. 0. 0. 0. 0. 5. 0. 5. 0. 0. 5. 0. 0. 0. 0.]\n [0. 0. 0. 0. 0. 5. 0. 0. 5. 0. 0. 5. 0. 0. 0.]\n [0. 0. 0. 0. 0. 0. 5. 5. 0. 0. 0. 0. 5. 0. 0.]\n [0. 0. 0. 0. 0. 0. 5. 0. 5. 0. 0. 0. 0. 5. 0.]\n [0. 0. 0. 0. 0. 0. 0. 5. 5. 0. 0. 0. 0. 0. 5.]\n [0. 0. 0. 0. 0. 0. 0. 0. 0. 5. 5. 0. 5. 0. 0.]\n [0. 0. 0. 0. 0. 0. 0. 0. 0. 5. 0. 5. 0. 5. 0.]\n [0. 0. 0. 0. 0. 0. 0. 0. 0. 0. 5. 5. 0. 0. 5.]]\n2\n[[0. 0. 0. 0. 0. 0. 0. 0. 0. 0. 0. 0.]]\n[[0. 0. 0. 0. 0. 0. 0. 0. 0. 0. 0. 0. 5. 5. 5.]]\n[[5. 5. 0. 0. 0. 5. 0. 0. 0. 0. 0. 0. 0. 0. 0.]\n [5. 0. 5. 0. 0. 0. 5. 0. 0. 0. 0. 0. 0. 0. 0.]\n [5. 0. 0. 5. 0. 0. 0. 5. 0. 0. 0. 0. 0. 0. 0.]\n [5. 0. 0. 0. 5. 0. 0. 0. 5. 0. 0. 0. 0. 0. 0.]\n [0. 5. 5. 0. 0. 0. 0. 0. 0. 5. 0. 0. 0. 0. 0.]\n [0. 5. 0. 5. 0. 0. 0. 0. 0. 0. 5. 0. 0. 0. 0.]\n [0. 5. 0. 0. 5. 0. 0. 0. 0. 0. 0. 5. 0. 0. 0.]\n [0. 0. 5. 5. 0. 0. 0. 0. 0. 0. 0. 0. 5. 0. 0.]\n [0. 0. 5. 0. 5. 0. 0. 0. 0. 0. 0. 0. 0. 5. 0.]\n [0. 0. 0. 5. 5. 0. 0. 0. 0. 0. 0. 0. 0. 0. 5.]\n [0. 0. 0. 0. 0. 5. 5. 0. 0. 5. 0. 0. 0. 0. 0.]\n [0. 0. 0. 0. 0. 5. 0. 5. 0. 0. 5. 0. 0. 0. 0.]\n [0. 0. 0. 0. 0. 5. 0. 0. 5. 0. 0. 5. 0. 0. 0.]\n [0. 0. 0. 0. 0. 0. 5. 5. 0. 0. 0. 0. 5. 0. 0.]\n [0. 0. 0. 0. 0. 0. 5. 0. 5. 0. 0. 0. 0. 5. 0.]\n [0. 0. 0. 0. 0. 0. 0. 5. 5. 0. 0. 0. 0. 0. 5.]\n [0. 0. 0. 0. 0. 0. 0. 0. 0. 5. 5. 0. 5. 0. 0.]\n [0. 0. 0. 0. 0. 0. 0. 0. 0. 5. 0. 5. 0. 5. 0.]\n [0. 0. 0. 0. 0. 0. 0. 0. 0. 0. 5. 5. 0. 0. 5.]\n [0. 0. 0. 0. 0. 0. 0. 0. 0. 0. 0. 0. 5. 5. 5.]]\n[[5. 5. 0. 0. 0. 5. 0. 0. 0. 0. 0. 0. 0. 0. 0.]\n [5. 0. 5. 0. 0. 0. 5. 0. 0. 0. 0. 0. 0. 0. 0.]\n [5. 0. 0. 5. 0. 0. 0. 5. 0. 0. 0. 0. 0. 0. 0.]\n [5. 0. 0. 0. 5. 0. 0. 0. 5. 0. 0. 0. 0. 0. 0.]\n [0. 5. 5. 0. 0. 0. 0. 0. 0. 5. 0. 0. 0. 0. 0.]\n [0. 5. 0. 5. 0. 0. 0. 0. 0. 0. 5. 0. 0. 0. 0.]\n [0. 5. 0. 0. 5. 0. 0. 0. 0. 0. 0. 5. 0. 0. 0.]\n [0. 0. 5. 5. 0. 0. 0. 0. 0. 0. 0. 0. 5. 0. 0.]\n [0. 0. 5. 0. 5. 0. 0. 0. 0. 0. 0. 0. 0. 5. 0.]\n [0. 0. 0. 5. 5. 0. 0. 0. 0. 0. 0. 0. 0. 0. 5.]\n [0. 0. 0. 0. 0. 5. 5. 0. 0. 5. 0. 0. 0. 0. 0.]\n [0. 0. 0. 0. 0. 5. 0. 5. 0. 0. 5. 0. 0. 0. 0.]\n [0. 0. 0. 0. 0. 5. 0. 0. 5. 0. 0. 5. 0. 0. 0.]\n [0. 0. 0. 0. 0. 0. 5. 5. 0. 0. 0. 0. 5. 0. 0.]\n [0. 0. 0. 0. 0. 0. 5. 0. 5. 0. 0. 0. 0. 5. 0.]\n [0. 0. 0. 0. 0. 0. 0. 5. 5. 0. 0. 0. 0. 0. 5.]\n [0. 0. 0. 0. 0. 0. 0. 0. 0. 5. 5. 0. 5. 0. 0.]\n [0. 0. 0. 0. 0. 0. 0. 0. 0. 5. 0. 5. 0. 5. 0.]\n [0. 0. 0. 0. 0. 0. 0. 0. 0. 0. 5. 5. 0. 0. 5.]\n [0. 0. 0. 0. 0. 0. 0. 0. 0. 0. 0. 0. 5. 5. 5.]]\n"
     ]
    }
   ],
   "source": [
    "from genGO2_vec import genGO2\n",
    "import numpy as np\n",
    "\n",
    "GO2 = genGO2(np.array([5,5,5,5,5,5]))\n",
    "print(GO2)\n"
   ]
  },
  {
   "cell_type": "code",
   "execution_count": 2,
   "metadata": {},
   "outputs": [
    {
     "output_type": "stream",
     "name": "stdout",
     "text": [
      "[[0.32 0.32 0.   0.   0.   0.   0.   0.   0.   0.  ]\n [0.32 0.   0.32 0.   0.   0.   0.   0.   0.   0.  ]\n [0.32 0.   0.   0.32 0.   0.   0.   0.   0.   0.  ]\n [0.32 0.   0.   0.   0.32 0.   0.   0.   0.   0.  ]\n [0.32 0.   0.   0.   0.   0.32 0.   0.   0.   0.  ]\n [0.32 0.   0.   0.   0.   0.   0.32 0.   0.   0.  ]\n [0.32 0.   0.   0.   0.   0.   0.   0.32 0.   0.  ]\n [0.32 0.   0.   0.   0.   0.   0.   0.   0.32 0.  ]\n [0.32 0.   0.   0.   0.   0.   0.   0.   0.   0.32]\n [0.   0.32 0.32 0.   0.   0.   0.   0.   0.   0.  ]\n [0.   0.32 0.   0.32 0.   0.   0.   0.   0.   0.  ]\n [0.   0.32 0.   0.   0.32 0.   0.   0.   0.   0.  ]\n [0.   0.32 0.   0.   0.   0.32 0.   0.   0.   0.  ]\n [0.   0.32 0.   0.   0.   0.   0.32 0.   0.   0.  ]\n [0.   0.32 0.   0.   0.   0.   0.   0.32 0.   0.  ]\n [0.   0.32 0.   0.   0.   0.   0.   0.   0.32 0.  ]\n [0.   0.32 0.   0.   0.   0.   0.   0.   0.   0.32]\n [0.   0.   0.32 0.32 0.   0.   0.   0.   0.   0.  ]\n [0.   0.   0.32 0.   0.32 0.   0.   0.   0.   0.  ]\n [0.   0.   0.32 0.   0.   0.32 0.   0.   0.   0.  ]\n [0.   0.   0.32 0.   0.   0.   0.32 0.   0.   0.  ]\n [0.   0.   0.32 0.   0.   0.   0.   0.32 0.   0.  ]\n [0.   0.   0.32 0.   0.   0.   0.   0.   0.32 0.  ]\n [0.   0.   0.32 0.   0.   0.   0.   0.   0.   0.32]\n [0.   0.   0.   0.32 0.32 0.   0.   0.   0.   0.  ]\n [0.   0.   0.   0.32 0.   0.32 0.   0.   0.   0.  ]\n [0.   0.   0.   0.32 0.   0.   0.32 0.   0.   0.  ]\n [0.   0.   0.   0.32 0.   0.   0.   0.32 0.   0.  ]\n [0.   0.   0.   0.32 0.   0.   0.   0.   0.32 0.  ]\n [0.   0.   0.   0.32 0.   0.   0.   0.   0.   0.32]\n [0.   0.   0.   0.   0.32 0.32 0.   0.   0.   0.  ]\n [0.   0.   0.   0.   0.32 0.   0.32 0.   0.   0.  ]\n [0.   0.   0.   0.   0.32 0.   0.   0.32 0.   0.  ]\n [0.   0.   0.   0.   0.32 0.   0.   0.   0.32 0.  ]\n [0.   0.   0.   0.   0.32 0.   0.   0.   0.   0.32]\n [0.   0.   0.   0.   0.   0.32 0.32 0.   0.   0.  ]\n [0.   0.   0.   0.   0.   0.32 0.   0.32 0.   0.  ]\n [0.   0.   0.   0.   0.   0.32 0.   0.   0.32 0.  ]\n [0.   0.   0.   0.   0.   0.32 0.   0.   0.   0.32]\n [0.   0.   0.   0.   0.   0.   0.32 0.32 0.   0.  ]\n [0.   0.   0.   0.   0.   0.   0.32 0.   0.32 0.  ]\n [0.   0.   0.   0.   0.   0.   0.32 0.   0.   0.32]\n [0.   0.   0.   0.   0.   0.   0.   0.32 0.32 0.  ]\n [0.   0.   0.   0.   0.   0.   0.   0.32 0.   0.32]\n [0.   0.   0.   0.   0.   0.   0.   0.   0.32 0.32]]\n"
     ]
    }
   ],
   "source": [
    "from genGO_vec import genGO\n",
    "import jax.numpy as np\n",
    "\n",
    "# print(np.zeros((3,0)))\n",
    "\n",
    "GO = genGO(np.array([0.3200,0.3200,0.3200,0.3200,0.3200,0.3200,0.3200,0.3200,0.3200,0.3200]))\n",
    "print(GO)"
   ]
  },
  {
   "cell_type": "code",
   "execution_count": null,
   "metadata": {},
   "outputs": [],
   "source": []
  }
 ]
}